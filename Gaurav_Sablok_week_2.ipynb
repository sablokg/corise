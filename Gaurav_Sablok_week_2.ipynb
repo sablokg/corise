{
  "cells": [
    {
      "cell_type": "markdown",
      "id": "rISRrL2X93Yx",
      "metadata": {
        "id": "rISRrL2X93Yx"
      },
      "source": [
        "## Downloading the Dataset\n",
        "\n",
        "You'll need to download some prerequisite Python packages in order to run all the code below. Let's install them!"
      ]
    },
    {
      "cell_type": "code",
      "execution_count": 2,
      "id": "JspZZKEj9ytH",
      "metadata": {
        "id": "JspZZKEj9ytH"
      },
      "outputs": [],
      "source": [
        "%%capture\n",
        "!pip install numpy pandas streamlit gdown pyarrow"
      ]
    },
    {
      "cell_type": "markdown",
      "id": "0c21b1ad-25c8-4a99-a4e0-764d568f711b",
      "metadata": {
        "id": "0c21b1ad-25c8-4a99-a4e0-764d568f711b"
      },
      "source": [
        "We will download the datasets from Google Drive just like we did last week, but this time the datasets are in [Pickle](https://pythonnumericalmethods.berkeley.edu/notebooks/chapter11.03-Pickle-Files.html) and [Parquet](https://arrow.apache.org/docs/python/parquet.html) format. "
      ]
    },
    {
      "cell_type": "code",
      "execution_count": 3,
      "id": "383cc4c4-c43c-4e77-bfce-8b4f1ab29bb4",
      "metadata": {
        "colab": {
          "base_uri": "https://localhost:8080/",
          "height": 178
        },
        "id": "383cc4c4-c43c-4e77-bfce-8b4f1ab29bb4",
        "outputId": "46f07c38-55b0-425d-95b6-a8cfd45b06c6"
      },
      "outputs": [
        {
          "name": "stderr",
          "output_type": "stream",
          "text": [
            "Downloading...\n",
            "From: https://drive.google.com/uc?id=1m185vTdh-u7_A2ZElBvUD4SCO6oETll2\n",
            "To: /Users/dr.gauravsablok/Desktop/Read/Code/listings_project.pkl\n",
            "100%|██████████| 1.42M/1.42M [00:02<00:00, 706kB/s]\n",
            "Downloading...\n",
            "From: https://drive.google.com/uc?id=1w41V1oWHJrBdaNJJQ4oxVBuml5CO7MQX\n",
            "To: /Users/dr.gauravsablok/Desktop/Read/Code/calendar_project.parquet\n",
            "100%|██████████| 1.23M/1.23M [00:04<00:00, 289kB/s]\n"
          ]
        },
        {
          "data": {
            "text/plain": [
              "'calendar_project.parquet'"
            ]
          },
          "execution_count": 3,
          "metadata": {},
          "output_type": "execute_result"
        }
      ],
      "source": [
        "import os\n",
        "import shutil\n",
        "import gdown\n",
        "import numpy as np\n",
        "import pandas as pd\n",
        "\n",
        "# Download files from Google Drive\n",
        "# Based on data from: http://insideairbnb.com/get-the-data/\n",
        "file_id_1 = \"1m185vTdh-u7_A2ZElBvUD4SCO6oETll2\"\n",
        "file_id_2 = \"1w41V1oWHJrBdaNJJQ4oxVBuml5CO7MQX\"\n",
        "downloaded_file_1 = \"listings_project.pkl\"\n",
        "downloaded_file_2 = \"calendar_project.parquet\"\n",
        "# Download the files from Google Drive\n",
        "gdown.download(id=file_id_1, output=downloaded_file_1)\n",
        "gdown.download(id=file_id_2, output=downloaded_file_2)"
      ]
    },
    {
      "cell_type": "code",
      "execution_count": null,
      "id": "70509240-553f-4c0a-9ba8-54559efc606d",
      "metadata": {
        "id": "70509240-553f-4c0a-9ba8-54559efc606d"
      },
      "outputs": [],
      "source": [
        "# Show all columns (instead of cascading columns in the middle)\n",
        "pd.set_option(\"display.max_columns\", None)\n",
        "# Don't show numbers in scientific notation\n",
        "pd.set_option(\"display.float_format\", \"{:.2f}\".format)"
      ]
    },
    {
      "cell_type": "code",
      "execution_count": 4,
      "id": "f9af6bae",
      "metadata": {},
      "outputs": [],
      "source": [
        "# importing the dtale library \n",
        "import dtale"
      ]
    },
    {
      "cell_type": "code",
      "execution_count": null,
      "id": "0KEX1T2F86pf",
      "metadata": {
        "id": "0KEX1T2F86pf"
      },
      "outputs": [],
      "source": []
    },
    {
      "attachments": {},
      "cell_type": "markdown",
      "id": "4511c023-4bc6-4399-b5bf-c4977fdf1ea0",
      "metadata": {
        "id": "4511c023-4bc6-4399-b5bf-c4977fdf1ea0"
      },
      "source": [
        "## Preprocessing the Dataset\n",
        "#Please load the downloaded files as DataFrames (dfs). \n",
        "#The method for loading these datasets is the same as what we did on the CoRise platform.\n",
        "#### Task 1: Reading the Pickle and Parquet\n",
        "[*\\[Related section on CoRise\\]*](https://corise.com/course/python-for-data-science/v2/module/details-dataset#corise_cl9jxhls800403b6pf9k9nh9e)\n",
        "Read the Python Pickle and PyArrow Parquet files we've just downloaded as `df_list` and `df_cal`."
      ]
    },
    {
      "cell_type": "code",
      "execution_count": 6,
      "id": "cnFmfiydVawy",
      "metadata": {
        "id": "cnFmfiydVawy"
      },
      "outputs": [],
      "source": [
        "df_list = pd.read_pickle(downloaded_file_1)\n",
        "df_cal = pd.read_parquet(downloaded_file_2)"
      ]
    },
    {
      "cell_type": "markdown",
      "id": "3f375704-9648-49cc-a6fc-a7f7208b476f",
      "metadata": {
        "id": "3f375704-9648-49cc-a6fc-a7f7208b476f",
        "tags": []
      },
      "source": [
        "Now instead of cleaning the **Calendar DataFrame**, you are going to clean the **Listings DataFrame**. You will use the same steps we used to clean the Calendar data on the CoRise platform this week. Let's first get an overview of the columns that are in this particular DataFrame 🧐."
      ]
    },
    {
      "attachments": {},
      "cell_type": "markdown",
      "id": "38b21f27-24ea-4622-8c2a-c4bb065b5d4e",
      "metadata": {
        "id": "38b21f27-24ea-4622-8c2a-c4bb065b5d4e"
      },
      "source": [
        "#### Task 2: Print column names, types, and non-null values \n",
        "[*\\[Related section on CoRise\\]*](https://corise.com/course/python-for-data-science/v2/module/clean-inspect#corise_cl9wmh42v001l3b6pcxidoxp2)\n",
        "Let's try and get an overview of the **Listings DataFrame**, called `df_list`. This should show us some details about the columns in the DataFrame, like the column names, their data types, and the number of non-null values."
      ]
    },
    {
      "cell_type": "code",
      "execution_count": null,
      "id": "wOKwdo8gH9Th",
      "metadata": {
        "colab": {
          "base_uri": "https://localhost:8080/"
        },
        "id": "wOKwdo8gH9Th",
        "outputId": "c249018d-cb2d-4b8e-8ee4-9e6886f2628b"
      },
      "outputs": [
        {
          "name": "stdout",
          "output_type": "stream",
          "text": [
            "<class 'pandas.core.frame.DataFrame'>\n",
            "Int64Index: 6165 entries, 0 to 6172\n",
            "Data columns (total 34 columns):\n",
            " #   Column                                Non-Null Count  Dtype  \n",
            "---  ------                                --------------  -----  \n",
            " 0   id                                    6165 non-null   int64  \n",
            " 1   host_acceptance_rate                  5365 non-null   float64\n",
            " 2   host_is_superhost                     6165 non-null   object \n",
            " 3   host_listings_count                   6165 non-null   int64  \n",
            " 4   host_total_listings_count             6165 non-null   int64  \n",
            " 5   neighbourhood_cleansed                6165 non-null   object \n",
            " 6   latitude                              6165 non-null   float64\n",
            " 7   longitude                             6165 non-null   float64\n",
            " 8   room_type                             6165 non-null   object \n",
            " 9   accommodates                          6165 non-null   int64  \n",
            " 10  bedrooms                              5859 non-null   float64\n",
            " 11  beds                                  6082 non-null   float64\n",
            " 12  amenities                             6165 non-null   int64  \n",
            " 13  price                                 6165 non-null   object \n",
            " 14  minimum_nights                        6165 non-null   int64  \n",
            " 15  maximum_nights                        6165 non-null   int64  \n",
            " 16  has_availability                      6165 non-null   object \n",
            " 17  availability_30                       6165 non-null   int64  \n",
            " 18  availability_60                       6165 non-null   int64  \n",
            " 19  availability_90                       6165 non-null   int64  \n",
            " 20  availability_365                      6165 non-null   int64  \n",
            " 21  number_of_reviews                     6165 non-null   int64  \n",
            " 22  number_of_reviews_ltm                 6165 non-null   int64  \n",
            " 23  number_of_reviews_l30d                6165 non-null   int64  \n",
            " 24  review_scores_rating                  5581 non-null   float64\n",
            " 25  instant_bookable                      6165 non-null   object \n",
            " 26  reviews_per_month                     5581 non-null   float64\n",
            " 27  price_in_euros                        0 non-null      object \n",
            " 28  price_per_person                      6165 non-null   object \n",
            " 29  minimum_price                         6165 non-null   object \n",
            " 30  discount_per_5_days_booked            6165 non-null   object \n",
            " 31  discount_per_10_days_booked           6165 non-null   object \n",
            " 32  discount_per_30_and_more_days_booked  6165 non-null   object \n",
            " 33  service_cost                          6165 non-null   object \n",
            "dtypes: float64(7), int64(14), object(13)\n",
            "memory usage: 1.6+ MB\n"
          ]
        }
      ],
      "source": [
        "df_list.info(verbose = True, show_counts = True)"
      ]
    },
    {
      "cell_type": "code",
      "execution_count": 7,
      "id": "4914f5da",
      "metadata": {},
      "outputs": [
        {
          "name": "stderr",
          "output_type": "stream",
          "text": [
            "2022-12-30 16:13:36,039 - WARNING  - Found pyspark version \"3.2.1\" installed. The pyspark version 3.2 and above has a built-in \"pandas APIs on Spark\" module ported from Koalas. Try `import pyspark.pandas as ps` instead. \n",
            "2022-12-30 16:13:36,041 - WARNING  - 'PYARROW_IGNORE_TIMEZONE' environment variable was not set. It is required to set this environment variable to '1' in both driver and executor sides if you use pyarrow>=2.0.0. Koalas will set it for you but it does not work if there is a Spark context already launched.\n",
            "2022-12-30 16:13:36,605 - INFO     - Patching spark automatically. You can disable it by setting SPARK_KOALAS_AUTOPATCH=false in your environment\n"
          ]
        },
        {
          "data": {
            "text/html": [
              "\n",
              "        <iframe\n",
              "            width=\"100%\"\n",
              "            height=\"475\"\n",
              "            src=\"http://localhost:40000/dtale/iframe/1\"\n",
              "            frameborder=\"0\"\n",
              "            allowfullscreen\n",
              "            \n",
              "        ></iframe>\n",
              "        "
            ],
            "text/plain": [
              "<IPython.lib.display.IFrame at 0x7fc654c30c40>"
            ]
          },
          "metadata": {},
          "output_type": "display_data"
        },
        {
          "data": {
            "text/plain": []
          },
          "execution_count": 7,
          "metadata": {},
          "output_type": "execute_result"
        }
      ],
      "source": [
        "dtale.show(df_list)"
      ]
    },
    {
      "cell_type": "code",
      "execution_count": 8,
      "id": "e-FGn3l8Nd3u",
      "metadata": {
        "colab": {
          "base_uri": "https://localhost:8080/"
        },
        "id": "e-FGn3l8Nd3u",
        "outputId": "ab993855-2787-45c9-d78b-464f7131e277"
      },
      "outputs": [
        {
          "data": {
            "text/plain": [
              "0    5%\n",
              "1    5%\n",
              "2    7%\n",
              "3    6%\n",
              "4    9%\n",
              "Name: discount_per_5_days_booked, dtype: object"
            ]
          },
          "execution_count": 8,
          "metadata": {},
          "output_type": "execute_result"
        }
      ],
      "source": [
        "df_list.discount_per_5_days_booked.head(5)"
      ]
    },
    {
      "cell_type": "code",
      "execution_count": null,
      "id": "180c275a",
      "metadata": {},
      "outputs": [],
      "source": [
        "#### Task 3: Remove, convert, and format\n",
        "[*\\[Related section on CoRise\\]*](https://corise.com/course/python-for-data-science/v2/module/clean-inspect#corise_cl9wmqqgx001x3b6p54g1ka2y)\n",
        "Perform this four-step process to change each of the three `discount_per_...` columns into their proper format:\n",
        "1. Remove non-numeric characters, like the percent symbol, so you can perform mathematical calculations on the column\n",
        "1. Change the column into a `float` data type in order to convert the data into a ratio\n",
        "1. Multiply the whole column by 0.01 so you end up with a probability ratio instead of a percentage\n",
        "1. Overwrite the old `discount_per_...` column with this new column\n",
        "Perform these four steps for all thee columns.\n",
        "***Please note that running this code block more than once might cause an error. This is because you are re-assigning your columns with this code, and if you run the code again, the variable/column you are referring to has already been changed to its preferred state.***\n"
      ]
    },
    {
      "cell_type": "code",
      "execution_count": null,
      "id": "OdlvrgxDf-7j",
      "metadata": {
        "id": "OdlvrgxDf-7j"
      },
      "outputs": [],
      "source": [
        "df_list[\"discount_per_5_days_booked\"] = (df_list[\"discount_per_5_days_booked\"].str.replace(\"%\", \"\", regex = True).astype(\"float\")) / 100\n",
        "df_list[\"discount_per_10_days_booked\"] = (df_list[\"discount_per_10_days_booked\"].str.replace(\"%\", \"\", regex = True).astype(\"float\")) / 100\n",
        "df_list[\"discount_per_30_and_more_days_booked\"] = (df_list[\"discount_per_30_and_more_days_booked\"].str.replace(\"%\", \"\", regex = True).astype(\"float\")) / 100"
      ]
    },
    {
      "cell_type": "code",
      "execution_count": 9,
      "id": "Gfc0pNmSNiMG",
      "metadata": {
        "colab": {
          "base_uri": "https://localhost:8080/"
        },
        "id": "Gfc0pNmSNiMG",
        "outputId": "274bf354-d128-4575-f688-a28683d1320f"
      },
      "outputs": [
        {
          "data": {
            "text/plain": [
              "0    5%\n",
              "1    5%\n",
              "2    7%\n",
              "3    6%\n",
              "4    9%\n",
              "Name: discount_per_5_days_booked, dtype: object"
            ]
          },
          "execution_count": 9,
          "metadata": {},
          "output_type": "execute_result"
        }
      ],
      "source": [
        "df_list.discount_per_5_days_booked.head(5)"
      ]
    },
    {
      "cell_type": "code",
      "execution_count": 10,
      "id": "Zgg-sLPhgtIc",
      "metadata": {
        "colab": {
          "base_uri": "https://localhost:8080/",
          "height": 206
        },
        "id": "Zgg-sLPhgtIc",
        "outputId": "bab54126-776a-425b-f3ae-df1766554060"
      },
      "outputs": [
        {
          "data": {
            "text/html": [
              "<div>\n",
              "<style scoped>\n",
              "    .dataframe tbody tr th:only-of-type {\n",
              "        vertical-align: middle;\n",
              "    }\n",
              "\n",
              "    .dataframe tbody tr th {\n",
              "        vertical-align: top;\n",
              "    }\n",
              "\n",
              "    .dataframe thead th {\n",
              "        text-align: right;\n",
              "    }\n",
              "</style>\n",
              "<table border=\"1\" class=\"dataframe\">\n",
              "  <thead>\n",
              "    <tr style=\"text-align: right;\">\n",
              "      <th></th>\n",
              "      <th>host_is_superhost</th>\n",
              "      <th>instant_bookable</th>\n",
              "      <th>has_availability</th>\n",
              "    </tr>\n",
              "  </thead>\n",
              "  <tbody>\n",
              "    <tr>\n",
              "      <th>0</th>\n",
              "      <td>f</td>\n",
              "      <td>t</td>\n",
              "      <td>t</td>\n",
              "    </tr>\n",
              "    <tr>\n",
              "      <th>1</th>\n",
              "      <td>t</td>\n",
              "      <td>f</td>\n",
              "      <td>t</td>\n",
              "    </tr>\n",
              "    <tr>\n",
              "      <th>2</th>\n",
              "      <td>f</td>\n",
              "      <td>f</td>\n",
              "      <td>t</td>\n",
              "    </tr>\n",
              "    <tr>\n",
              "      <th>3</th>\n",
              "      <td>f</td>\n",
              "      <td>f</td>\n",
              "      <td>t</td>\n",
              "    </tr>\n",
              "    <tr>\n",
              "      <th>4</th>\n",
              "      <td>t</td>\n",
              "      <td>f</td>\n",
              "      <td>t</td>\n",
              "    </tr>\n",
              "  </tbody>\n",
              "</table>\n",
              "</div>"
            ],
            "text/plain": [
              "  host_is_superhost instant_bookable has_availability\n",
              "0                 f                t                t\n",
              "1                 t                f                t\n",
              "2                 f                f                t\n",
              "3                 f                f                t\n",
              "4                 t                f                t"
            ]
          },
          "execution_count": 10,
          "metadata": {},
          "output_type": "execute_result"
        }
      ],
      "source": [
        "df_list[[\"host_is_superhost\", \"instant_bookable\", \"has_availability\"]].head(5)"
      ]
    },
    {
      "cell_type": "code",
      "execution_count": 11,
      "id": "eSdr3z8Ug-mB",
      "metadata": {
        "id": "eSdr3z8Ug-mB"
      },
      "outputs": [],
      "source": [
        "df_list[\"host_is_superhost\"] = df_list[\"host_is_superhost\"].replace({\"t\": True, \"f\": False}).astype(\"bool\")\n",
        "df_list[\"instant_bookable\"] = df_list[\"instant_bookable\"].replace({\"t\": True, \"f\": False}).astype(\"bool\")\n",
        "df_list[\"has_availability\"] = df_list[\"has_availability\"].replace({\"t\": True, \"f\": False}).astype(\"bool\")"
      ]
    },
    {
      "cell_type": "code",
      "execution_count": 12,
      "id": "9MaVbdgLQDCJ",
      "metadata": {
        "colab": {
          "base_uri": "https://localhost:8080/",
          "height": 206
        },
        "id": "9MaVbdgLQDCJ",
        "outputId": "341758d9-2fc7-4f3f-de94-6cd5ddf8c505"
      },
      "outputs": [
        {
          "data": {
            "text/html": [
              "<div>\n",
              "<style scoped>\n",
              "    .dataframe tbody tr th:only-of-type {\n",
              "        vertical-align: middle;\n",
              "    }\n",
              "\n",
              "    .dataframe tbody tr th {\n",
              "        vertical-align: top;\n",
              "    }\n",
              "\n",
              "    .dataframe thead th {\n",
              "        text-align: right;\n",
              "    }\n",
              "</style>\n",
              "<table border=\"1\" class=\"dataframe\">\n",
              "  <thead>\n",
              "    <tr style=\"text-align: right;\">\n",
              "      <th></th>\n",
              "      <th>host_is_superhost</th>\n",
              "      <th>instant_bookable</th>\n",
              "      <th>has_availability</th>\n",
              "    </tr>\n",
              "  </thead>\n",
              "  <tbody>\n",
              "    <tr>\n",
              "      <th>0</th>\n",
              "      <td>False</td>\n",
              "      <td>True</td>\n",
              "      <td>True</td>\n",
              "    </tr>\n",
              "    <tr>\n",
              "      <th>1</th>\n",
              "      <td>True</td>\n",
              "      <td>False</td>\n",
              "      <td>True</td>\n",
              "    </tr>\n",
              "    <tr>\n",
              "      <th>2</th>\n",
              "      <td>False</td>\n",
              "      <td>False</td>\n",
              "      <td>True</td>\n",
              "    </tr>\n",
              "    <tr>\n",
              "      <th>3</th>\n",
              "      <td>False</td>\n",
              "      <td>False</td>\n",
              "      <td>True</td>\n",
              "    </tr>\n",
              "    <tr>\n",
              "      <th>4</th>\n",
              "      <td>True</td>\n",
              "      <td>False</td>\n",
              "      <td>True</td>\n",
              "    </tr>\n",
              "  </tbody>\n",
              "</table>\n",
              "</div>"
            ],
            "text/plain": [
              "   host_is_superhost  instant_bookable  has_availability\n",
              "0              False              True              True\n",
              "1               True             False              True\n",
              "2              False             False              True\n",
              "3              False             False              True\n",
              "4               True             False              True"
            ]
          },
          "execution_count": 12,
          "metadata": {},
          "output_type": "execute_result"
        }
      ],
      "source": [
        "df_list[[\"host_is_superhost\", \"instant_bookable\", \"has_availability\"]].head(5)"
      ]
    },
    {
      "cell_type": "code",
      "execution_count": 13,
      "id": "LGZRcYsnyeLD",
      "metadata": {
        "colab": {
          "base_uri": "https://localhost:8080/",
          "height": 206
        },
        "id": "LGZRcYsnyeLD",
        "outputId": "0560aecc-e8ab-4fa4-e38d-3eb11083f782"
      },
      "outputs": [
        {
          "data": {
            "text/html": [
              "<div>\n",
              "<style scoped>\n",
              "    .dataframe tbody tr th:only-of-type {\n",
              "        vertical-align: middle;\n",
              "    }\n",
              "\n",
              "    .dataframe tbody tr th {\n",
              "        vertical-align: top;\n",
              "    }\n",
              "\n",
              "    .dataframe thead th {\n",
              "        text-align: right;\n",
              "    }\n",
              "</style>\n",
              "<table border=\"1\" class=\"dataframe\">\n",
              "  <thead>\n",
              "    <tr style=\"text-align: right;\">\n",
              "      <th></th>\n",
              "      <th>price</th>\n",
              "      <th>price_per_person</th>\n",
              "      <th>minimum_price</th>\n",
              "      <th>service_cost</th>\n",
              "    </tr>\n",
              "  </thead>\n",
              "  <tbody>\n",
              "    <tr>\n",
              "      <th>0</th>\n",
              "      <td>$88.00</td>\n",
              "      <td>$44</td>\n",
              "      <td>$176</td>\n",
              "      <td>$4.99</td>\n",
              "    </tr>\n",
              "    <tr>\n",
              "      <th>1</th>\n",
              "      <td>$105.00</td>\n",
              "      <td>$52.5</td>\n",
              "      <td>$315</td>\n",
              "      <td>$4.99</td>\n",
              "    </tr>\n",
              "    <tr>\n",
              "      <th>2</th>\n",
              "      <td>$152.00</td>\n",
              "      <td>$38</td>\n",
              "      <td>$304</td>\n",
              "      <td>$4.99</td>\n",
              "    </tr>\n",
              "    <tr>\n",
              "      <th>3</th>\n",
              "      <td>$87.00</td>\n",
              "      <td>$43.5</td>\n",
              "      <td>$174</td>\n",
              "      <td>$4.99</td>\n",
              "    </tr>\n",
              "    <tr>\n",
              "      <th>4</th>\n",
              "      <td>$160.00</td>\n",
              "      <td>$40</td>\n",
              "      <td>$320</td>\n",
              "      <td>$4.99</td>\n",
              "    </tr>\n",
              "  </tbody>\n",
              "</table>\n",
              "</div>"
            ],
            "text/plain": [
              "     price price_per_person minimum_price service_cost\n",
              "0   $88.00              $44          $176        $4.99\n",
              "1  $105.00            $52.5          $315        $4.99\n",
              "2  $152.00              $38          $304        $4.99\n",
              "3   $87.00            $43.5          $174        $4.99\n",
              "4  $160.00              $40          $320        $4.99"
            ]
          },
          "execution_count": 13,
          "metadata": {},
          "output_type": "execute_result"
        }
      ],
      "source": [
        "df_list[[\"price\", \"price_per_person\", \"minimum_price\", 'service_cost']].head(5)"
      ]
    },
    {
      "cell_type": "code",
      "execution_count": 14,
      "id": "MGHiOAZJIniT",
      "metadata": {
        "id": "MGHiOAZJIniT"
      },
      "outputs": [],
      "source": [
        "df_list[\"price\"] = (df_list[\"price\"].str.replace(\"$\", \"\", regex = True).str.replace(\",\", \"\", regex = True)).astype(\"float\")\n",
        "df_list[\"price_per_person\"] = (df_list[\"price_per_person\"].str.replace(\"$\", \"\", regex = True).str.replace(\",\", \"\", regex = True)).astype(\"float\")\n",
        "df_list[\"minimum_price\"] = (df_list[\"minimum_price\"].str.replace(\"$\", \"\", regex = True).str.replace(\",\", \"\", regex = True)).astype(\"float\")\n",
        "df_list[\"service_cost\"] = (df_list[\"service_cost\"].str.replace(\"$\", \"\", regex = True).str.replace(\",\", \"\", regex = True)).astype(\"float\")"
      ]
    },
    {
      "cell_type": "code",
      "execution_count": 15,
      "id": "7U8IryrlIvBh",
      "metadata": {
        "colab": {
          "base_uri": "https://localhost:8080/",
          "height": 206
        },
        "id": "7U8IryrlIvBh",
        "outputId": "6e40ae39-9288-40cf-89ac-6d831e1f0b9d"
      },
      "outputs": [
        {
          "data": {
            "text/html": [
              "<div>\n",
              "<style scoped>\n",
              "    .dataframe tbody tr th:only-of-type {\n",
              "        vertical-align: middle;\n",
              "    }\n",
              "\n",
              "    .dataframe tbody tr th {\n",
              "        vertical-align: top;\n",
              "    }\n",
              "\n",
              "    .dataframe thead th {\n",
              "        text-align: right;\n",
              "    }\n",
              "</style>\n",
              "<table border=\"1\" class=\"dataframe\">\n",
              "  <thead>\n",
              "    <tr style=\"text-align: right;\">\n",
              "      <th></th>\n",
              "      <th>price</th>\n",
              "      <th>price_per_person</th>\n",
              "      <th>minimum_price</th>\n",
              "      <th>service_cost</th>\n",
              "    </tr>\n",
              "  </thead>\n",
              "  <tbody>\n",
              "    <tr>\n",
              "      <th>0</th>\n",
              "      <td>88.0</td>\n",
              "      <td>44.0</td>\n",
              "      <td>176.0</td>\n",
              "      <td>4.99</td>\n",
              "    </tr>\n",
              "    <tr>\n",
              "      <th>1</th>\n",
              "      <td>105.0</td>\n",
              "      <td>52.5</td>\n",
              "      <td>315.0</td>\n",
              "      <td>4.99</td>\n",
              "    </tr>\n",
              "    <tr>\n",
              "      <th>2</th>\n",
              "      <td>152.0</td>\n",
              "      <td>38.0</td>\n",
              "      <td>304.0</td>\n",
              "      <td>4.99</td>\n",
              "    </tr>\n",
              "    <tr>\n",
              "      <th>3</th>\n",
              "      <td>87.0</td>\n",
              "      <td>43.5</td>\n",
              "      <td>174.0</td>\n",
              "      <td>4.99</td>\n",
              "    </tr>\n",
              "    <tr>\n",
              "      <th>4</th>\n",
              "      <td>160.0</td>\n",
              "      <td>40.0</td>\n",
              "      <td>320.0</td>\n",
              "      <td>4.99</td>\n",
              "    </tr>\n",
              "  </tbody>\n",
              "</table>\n",
              "</div>"
            ],
            "text/plain": [
              "   price  price_per_person  minimum_price  service_cost\n",
              "0   88.0              44.0          176.0          4.99\n",
              "1  105.0              52.5          315.0          4.99\n",
              "2  152.0              38.0          304.0          4.99\n",
              "3   87.0              43.5          174.0          4.99\n",
              "4  160.0              40.0          320.0          4.99"
            ]
          },
          "execution_count": 15,
          "metadata": {},
          "output_type": "execute_result"
        }
      ],
      "source": [
        "df_list[[\"price\", \"price_per_person\", \"minimum_price\", 'service_cost']].head(5)"
      ]
    },
    {
      "cell_type": "code",
      "execution_count": 18,
      "id": "silFcFrGI0gB",
      "metadata": {
        "id": "silFcFrGI0gB"
      },
      "outputs": [],
      "source": [
        "df_list = df_list.rename(columns = {\"price\" : \"price_in_dollar\", \"neighbourhood_cleansed\" : \"neighbourhood\"})"
      ]
    },
    {
      "cell_type": "code",
      "execution_count": 19,
      "id": "KmrVlXc6JITM",
      "metadata": {
        "id": "KmrVlXc6JITM"
      },
      "outputs": [],
      "source": [
        "df_list[[\"neighbourhood\", \"room_type\"]] = df_list[[\"neighbourhood\", \"room_type\"]].astype(\"category\")"
      ]
    },
    {
      "cell_type": "code",
      "execution_count": 20,
      "id": "ljXUO3JNJUxm",
      "metadata": {
        "id": "ljXUO3JNJUxm"
      },
      "outputs": [],
      "source": [
        "df_list = df_list.drop(columns = [\"host_listings_count\", \"host_total_listings_count\", \"availability_60\", \"availability_90\", \"availability_365\", \"number_of_reviews\", \"number_of_reviews_ltm\", \"reviews_per_month\"])"
      ]
    },
    {
      "cell_type": "code",
      "execution_count": 21,
      "id": "S48Xv1Vv4LaH",
      "metadata": {
        "colab": {
          "base_uri": "https://localhost:8080/"
        },
        "id": "S48Xv1Vv4LaH",
        "outputId": "045e425e-2a30-49ab-8672-8bb9e8faab23"
      },
      "outputs": [
        {
          "name": "stdout",
          "output_type": "stream",
          "text": [
            "<class 'pandas.core.frame.DataFrame'>\n",
            "Int64Index: 6165 entries, 0 to 6172\n",
            "Data columns (total 26 columns):\n",
            " #   Column                                Non-Null Count  Dtype   \n",
            "---  ------                                --------------  -----   \n",
            " 0   id                                    6165 non-null   int64   \n",
            " 1   host_acceptance_rate                  5365 non-null   float64 \n",
            " 2   host_is_superhost                     6165 non-null   bool    \n",
            " 3   neighbourhood                         6165 non-null   category\n",
            " 4   latitude                              6165 non-null   float64 \n",
            " 5   longitude                             6165 non-null   float64 \n",
            " 6   room_type                             6165 non-null   category\n",
            " 7   accommodates                          6165 non-null   int64   \n",
            " 8   bedrooms                              5859 non-null   float64 \n",
            " 9   beds                                  6082 non-null   float64 \n",
            " 10  amenities                             6165 non-null   int64   \n",
            " 11  price_in_dollar                       6165 non-null   float64 \n",
            " 12  minimum_nights                        6165 non-null   int64   \n",
            " 13  maximum_nights                        6165 non-null   int64   \n",
            " 14  has_availability                      6165 non-null   bool    \n",
            " 15  availability_30                       6165 non-null   int64   \n",
            " 16  number_of_reviews_l30d                6165 non-null   int64   \n",
            " 17  review_scores_rating                  5581 non-null   float64 \n",
            " 18  instant_bookable                      6165 non-null   bool    \n",
            " 19  price_in_euros                        0 non-null      object  \n",
            " 20  price_per_person                      6165 non-null   float64 \n",
            " 21  minimum_price                         6165 non-null   float64 \n",
            " 22  discount_per_5_days_booked            6165 non-null   object  \n",
            " 23  discount_per_10_days_booked           6165 non-null   object  \n",
            " 24  discount_per_30_and_more_days_booked  6165 non-null   object  \n",
            " 25  service_cost                          6165 non-null   float64 \n",
            "dtypes: bool(3), category(2), float64(10), int64(7), object(4)\n",
            "memory usage: 1.1+ MB\n"
          ]
        }
      ],
      "source": [
        "df_list.info(verbose=True, show_counts=True)"
      ]
    },
    {
      "cell_type": "code",
      "execution_count": 23,
      "id": "e03e5a84",
      "metadata": {},
      "outputs": [
        {
          "name": "stderr",
          "output_type": "stream",
          "text": [
            "/Users/dr.gauravsablok/opt/anaconda3/lib/python3.9/site-packages/dtale/views.py:746: FutureWarning:\n",
            "\n",
            "['neighbourhood', 'room_type'] did not aggregate successfully. If any error is raised this will raise in a future version of pandas. Drop these columns/ops to avoid this warning.\n",
            "\n"
          ]
        },
        {
          "data": {
            "text/html": [
              "\n",
              "        <iframe\n",
              "            width=\"100%\"\n",
              "            height=\"475\"\n",
              "            src=\"http://localhost:40000/dtale/iframe/2\"\n",
              "            frameborder=\"0\"\n",
              "            allowfullscreen\n",
              "            \n",
              "        ></iframe>\n",
              "        "
            ],
            "text/plain": [
              "<IPython.lib.display.IFrame at 0x7fc654d7b1c0>"
            ]
          },
          "metadata": {},
          "output_type": "display_data"
        },
        {
          "data": {
            "text/plain": []
          },
          "execution_count": 23,
          "metadata": {},
          "output_type": "execute_result"
        }
      ],
      "source": [
        "dtale.show(df_list)"
      ]
    },
    {
      "cell_type": "code",
      "execution_count": 24,
      "id": "3keZMkvQMDvX",
      "metadata": {
        "colab": {
          "base_uri": "https://localhost:8080/"
        },
        "id": "3keZMkvQMDvX",
        "outputId": "f34d5138-34bb-4656-e176-c96df8a072f2"
      },
      "outputs": [
        {
          "data": {
            "text/plain": [
              "array([None], dtype=object)"
            ]
          },
          "execution_count": 24,
          "metadata": {},
          "output_type": "execute_result"
        }
      ],
      "source": [
        "df_list[\"price_in_euros\"].unique()"
      ]
    },
    {
      "cell_type": "code",
      "execution_count": 25,
      "id": "3FK-xAZ-MKh-",
      "metadata": {
        "id": "3FK-xAZ-MKh-"
      },
      "outputs": [],
      "source": [
        "# df_list.head(5)\n",
        "df_list = df_list.drop(columns = [\"price_in_euros\"])"
      ]
    },
    {
      "cell_type": "code",
      "execution_count": null,
      "id": "mELc4tTd8C4L",
      "metadata": {
        "id": "mELc4tTd8C4L"
      },
      "outputs": [],
      "source": [
        "df_list = df_list.dropna(axis = 0, how = \"any\", subset = [\"review_scores_rating\", \"host_acceptance_rate\"])"
      ]
    },
    {
      "cell_type": "code",
      "execution_count": 26,
      "id": "5e0aa7f3-8b04-45af-b3a3-47bc3e9eb340",
      "metadata": {
        "colab": {
          "base_uri": "https://localhost:8080/"
        },
        "id": "5e0aa7f3-8b04-45af-b3a3-47bc3e9eb340",
        "outputId": "140e425d-0756-4acb-d4aa-beaf4b3efe36"
      },
      "outputs": [
        {
          "data": {
            "text/plain": [
              "['Private room', 'Entire home/apt', 'Hotel room', 'Shared room']\n",
              "Categories (4, object): ['Entire home/apt', 'Hotel room', 'Private room', 'Shared room']"
            ]
          },
          "execution_count": 26,
          "metadata": {},
          "output_type": "execute_result"
        }
      ],
      "source": [
        "df_list[\"room_type\"].unique()"
      ]
    },
    {
      "cell_type": "code",
      "execution_count": 27,
      "id": "f710c2e4-86df-4c22-8e59-f8e14792133f",
      "metadata": {
        "id": "f710c2e4-86df-4c22-8e59-f8e14792133f"
      },
      "outputs": [],
      "source": [
        "def fill_empty_bedrooms(accommodates: int, bedrooms: int, room_type: str) -> int:\n",
        "    if (room_type == \"Private room\") or (room_type == \"Shared room\"):\n",
        "        return 1\n",
        "    elif (room_type == \"Hotel room\") or (room_type == \"Entire home/apt\"):\n",
        "        return np.ceil(accommodates / 2)\n",
        "    else:\n",
        "        return bedrooms"
      ]
    },
    {
      "cell_type": "code",
      "execution_count": 28,
      "id": "6f7f7b33-f85d-46a2-85cd-6816267c0926",
      "metadata": {
        "colab": {
          "base_uri": "https://localhost:8080/"
        },
        "id": "6f7f7b33-f85d-46a2-85cd-6816267c0926",
        "outputId": "f0a2b92a-e830-4d9b-b7cb-e50dff361f7c"
      },
      "outputs": [
        {
          "name": "stdout",
          "output_type": "stream",
          "text": [
            "75.7 ms ± 7.13 ms per loop (mean ± std. dev. of 4 runs, 100 loops each)\n"
          ]
        }
      ],
      "source": [
        "%%timeit -r 4 -n 100\n",
        "\n",
        "temp_df = df_list.copy()  # Deep copy of the df, not a \"view\"\n",
        "temp_df[\"rooms\"] = df_list[[\"accommodates\", \"bedrooms\", \"room_type\"]].apply(\n",
        "    lambda x: fill_empty_bedrooms(x[\"accommodates\"], x[\"bedrooms\"], x[\"room_type\"]),\n",
        "    axis=1,\n",
        ")"
      ]
    },
    {
      "cell_type": "code",
      "execution_count": null,
      "id": "m74v9tZHA0c_",
      "metadata": {
        "id": "m74v9tZHA0c_"
      },
      "outputs": [],
      "source": [
        "df_list[\"bedrooms\"] = df_list[[\"accommodates\", \"bedrooms\", \"room_type\"]].apply(\n",
        "    lambda x: fill_empty_bedrooms(x[\"accommodates\"], x[\"bedrooms\"], x[\"room_type\"]),\n",
        "    axis=1,\n",
        ")"
      ]
    },
    {
      "cell_type": "code",
      "execution_count": 29,
      "id": "3CjW4XiYBOLL",
      "metadata": {
        "colab": {
          "base_uri": "https://localhost:8080/"
        },
        "id": "3CjW4XiYBOLL",
        "outputId": "abd9fc62-6911-4b38-9b9d-fcfacb18bb6d"
      },
      "outputs": [
        {
          "name": "stdout",
          "output_type": "stream",
          "text": [
            "3.21 ms ± 972 µs per loop (mean ± std. dev. of 4 runs, 100 loops each)\n"
          ]
        }
      ],
      "source": [
        "%%timeit -r 4 -n 100\n",
        "temp_df = df_list.copy()\n",
        "temp_df['beds'] = temp_df['bedrooms']\n",
        "private_shared_mask = ( \n",
        "    (temp_df['room_type'] == \"Private room\") | (temp_df['room_type'] == \"Shared room\")\n",
        ")\n",
        "temp_df.loc[private_shared_mask, \"beds\"] = 1\n",
        "hotel_apt_mask = (\n",
        "     (temp_df['room_type'] == \"Hotel room\") | (temp_df['room_type'] == \"Entire home/apt\")\n",
        ")\n",
        "temp_df.loc[hotel_apt_mask, \"beds\"] = np.ceil(temp_df[\"accommodates\"] / 2)\n"
      ]
    },
    {
      "cell_type": "code",
      "execution_count": 30,
      "id": "evofgflhBxx4",
      "metadata": {
        "id": "evofgflhBxx4"
      },
      "outputs": [],
      "source": [
        "df_list = df_list.dropna(axis = 0, how = \"any\", subset = [\"bedrooms\", \"beds\"])"
      ]
    },
    {
      "cell_type": "code",
      "execution_count": 31,
      "id": "TNWvLCDqC9Fv",
      "metadata": {
        "colab": {
          "base_uri": "https://localhost:8080/"
        },
        "id": "TNWvLCDqC9Fv",
        "outputId": "421d443f-4830-4225-d5f1-54d936393a50"
      },
      "outputs": [],
      "source": [
        "# df_list.info()\n",
        "df_list[\"beds\"] = df_list[\"beds\"].astype(\"int\")\n",
        "df_list[\"bedrooms\"] = df_list[\"bedrooms\"].astype(\"int\")"
      ]
    },
    {
      "cell_type": "code",
      "execution_count": 32,
      "id": "tRiUEo1pDYPS",
      "metadata": {
        "colab": {
          "base_uri": "https://localhost:8080/"
        },
        "id": "tRiUEo1pDYPS",
        "outputId": "6cb8f7f3-2e0c-4726-8da6-5af25f42b37b"
      },
      "outputs": [
        {
          "data": {
            "text/plain": [
              "5791"
            ]
          },
          "execution_count": 32,
          "metadata": {},
          "output_type": "execute_result"
        }
      ],
      "source": [
        "df_list[\"bedrooms\"] = df_list[\"bedrooms\"].astype(\"int8\")\n",
        "df_list[\"bedrooms\"].memory_usage(index = False, deep = True)"
      ]
    },
    {
      "cell_type": "code",
      "execution_count": 33,
      "id": "4b15e8cc-5aa3-49e7-81de-c2e30229d95b",
      "metadata": {
        "colab": {
          "base_uri": "https://localhost:8080/"
        },
        "id": "4b15e8cc-5aa3-49e7-81de-c2e30229d95b",
        "outputId": "ef347428-d0f5-4129-d3ab-11ed27356ac7"
      },
      "outputs": [
        {
          "name": "stdout",
          "output_type": "stream",
          "text": [
            "<class 'pandas.core.frame.DataFrame'>\n",
            "Int64Index: 5791 entries, 0 to 6172\n",
            "Data columns (total 25 columns):\n",
            " #   Column                                Non-Null Count  Dtype   \n",
            "---  ------                                --------------  -----   \n",
            " 0   id                                    5791 non-null   int64   \n",
            " 1   host_acceptance_rate                  5019 non-null   float64 \n",
            " 2   host_is_superhost                     5791 non-null   bool    \n",
            " 3   neighbourhood                         5791 non-null   category\n",
            " 4   latitude                              5791 non-null   float64 \n",
            " 5   longitude                             5791 non-null   float64 \n",
            " 6   room_type                             5791 non-null   category\n",
            " 7   accommodates                          5791 non-null   int64   \n",
            " 8   bedrooms                              5791 non-null   int8    \n",
            " 9   beds                                  5791 non-null   int64   \n",
            " 10  amenities                             5791 non-null   int64   \n",
            " 11  price_in_dollar                       5791 non-null   float64 \n",
            " 12  minimum_nights                        5791 non-null   int64   \n",
            " 13  maximum_nights                        5791 non-null   int64   \n",
            " 14  has_availability                      5791 non-null   bool    \n",
            " 15  availability_30                       5791 non-null   int64   \n",
            " 16  number_of_reviews_l30d                5791 non-null   int64   \n",
            " 17  review_scores_rating                  5237 non-null   float64 \n",
            " 18  instant_bookable                      5791 non-null   bool    \n",
            " 19  price_per_person                      5791 non-null   float64 \n",
            " 20  minimum_price                         5791 non-null   float64 \n",
            " 21  discount_per_5_days_booked            5791 non-null   object  \n",
            " 22  discount_per_10_days_booked           5791 non-null   object  \n",
            " 23  discount_per_30_and_more_days_booked  5791 non-null   object  \n",
            " 24  service_cost                          5791 non-null   float64 \n",
            "dtypes: bool(3), category(2), float64(8), int64(8), int8(1), object(3)\n",
            "memory usage: 939.7+ KB\n"
          ]
        }
      ],
      "source": [
        "df_list.info(verbose=True, show_counts=True)"
      ]
    },
    {
      "cell_type": "code",
      "execution_count": 34,
      "id": "bb6771c3-67cc-43f8-bb72-f1737e74bb16",
      "metadata": {
        "colab": {
          "base_uri": "https://localhost:8080/",
          "height": 260
        },
        "id": "bb6771c3-67cc-43f8-bb72-f1737e74bb16",
        "outputId": "b182e08d-ade9-4bc7-f4a0-edc9d2797dd6"
      },
      "outputs": [
        {
          "name": "stderr",
          "output_type": "stream",
          "text": [
            "/Users/dr.gauravsablok/opt/anaconda3/lib/python3.9/site-packages/dtale/views.py:746: FutureWarning:\n",
            "\n",
            "['neighbourhood', 'room_type'] did not aggregate successfully. If any error is raised this will raise in a future version of pandas. Drop these columns/ops to avoid this warning.\n",
            "\n"
          ]
        },
        {
          "data": {
            "text/html": [
              "\n",
              "        <iframe\n",
              "            width=\"100%\"\n",
              "            height=\"475\"\n",
              "            src=\"http://localhost:40000/dtale/iframe/3\"\n",
              "            frameborder=\"0\"\n",
              "            allowfullscreen\n",
              "            \n",
              "        ></iframe>\n",
              "        "
            ],
            "text/plain": [
              "<IPython.lib.display.IFrame at 0x7fc64cea8a90>"
            ]
          },
          "metadata": {},
          "output_type": "display_data"
        },
        {
          "data": {
            "text/plain": []
          },
          "execution_count": 34,
          "metadata": {},
          "output_type": "execute_result"
        }
      ],
      "source": [
        "dtale.show(df_list)"
      ]
    },
    {
      "cell_type": "code",
      "execution_count": 35,
      "id": "eb9c7999-da32-4898-8672-4ab0f0220fa2",
      "metadata": {
        "colab": {
          "base_uri": "https://localhost:8080/",
          "height": 143
        },
        "id": "eb9c7999-da32-4898-8672-4ab0f0220fa2",
        "outputId": "61b0ad39-f153-413b-c25a-130e927a9969"
      },
      "outputs": [
        {
          "data": {
            "text/html": [
              "<div>\n",
              "<style scoped>\n",
              "    .dataframe tbody tr th:only-of-type {\n",
              "        vertical-align: middle;\n",
              "    }\n",
              "\n",
              "    .dataframe tbody tr th {\n",
              "        vertical-align: top;\n",
              "    }\n",
              "\n",
              "    .dataframe thead th {\n",
              "        text-align: right;\n",
              "    }\n",
              "</style>\n",
              "<table border=\"1\" class=\"dataframe\">\n",
              "  <thead>\n",
              "    <tr style=\"text-align: right;\">\n",
              "      <th></th>\n",
              "      <th>listing_id</th>\n",
              "      <th>date</th>\n",
              "      <th>available</th>\n",
              "      <th>price_in_dollar</th>\n",
              "      <th>minimum_nights</th>\n",
              "      <th>maximum_nights</th>\n",
              "    </tr>\n",
              "  </thead>\n",
              "  <tbody>\n",
              "    <tr>\n",
              "      <th>0</th>\n",
              "      <td>23726706</td>\n",
              "      <td>2022-06-05</td>\n",
              "      <td>False</td>\n",
              "      <td>90.0</td>\n",
              "      <td>2</td>\n",
              "      <td>1125</td>\n",
              "    </tr>\n",
              "    <tr>\n",
              "      <th>1</th>\n",
              "      <td>23726706</td>\n",
              "      <td>2022-06-06</td>\n",
              "      <td>False</td>\n",
              "      <td>90.0</td>\n",
              "      <td>2</td>\n",
              "      <td>1125</td>\n",
              "    </tr>\n",
              "    <tr>\n",
              "      <th>2</th>\n",
              "      <td>23726706</td>\n",
              "      <td>2022-06-07</td>\n",
              "      <td>False</td>\n",
              "      <td>90.0</td>\n",
              "      <td>2</td>\n",
              "      <td>1125</td>\n",
              "    </tr>\n",
              "  </tbody>\n",
              "</table>\n",
              "</div>"
            ],
            "text/plain": [
              "   listing_id       date  available  price_in_dollar  minimum_nights  \\\n",
              "0    23726706 2022-06-05      False             90.0               2   \n",
              "1    23726706 2022-06-06      False             90.0               2   \n",
              "2    23726706 2022-06-07      False             90.0               2   \n",
              "\n",
              "   maximum_nights  \n",
              "0            1125  \n",
              "1            1125  \n",
              "2            1125  "
            ]
          },
          "execution_count": 35,
          "metadata": {},
          "output_type": "execute_result"
        }
      ],
      "source": [
        "# The Calendar DataFrame!\n",
        "df_cal.head(3)"
      ]
    },
    {
      "cell_type": "code",
      "execution_count": 42,
      "id": "67b93fad-e42f-42b8-bb85-0a57166ecf3a",
      "metadata": {
        "id": "67b93fad-e42f-42b8-bb85-0a57166ecf3a"
      },
      "outputs": [],
      "source": [
        "# First start by making a copy, for debugging purposes\n",
        "calendar_ndf = df_cal.copy()\n",
        "\n",
        "include_list = (\n",
        "    calendar_ndf[\"minimum_nights\"] >= 3\n",
        ")"
      ]
    },
    {
      "cell_type": "code",
      "execution_count": 43,
      "id": "P_lkhpOtF5ul",
      "metadata": {
        "id": "P_lkhpOtF5ul"
      },
      "outputs": [],
      "source": [
        "# Get all the listings with a minimum nights of 3+\n",
        "# Use the include_list\n",
        "calendar_ndf = calendar_newdf.loc[include_list]"
      ]
    },
    {
      "cell_type": "code",
      "execution_count": 44,
      "id": "OPuUQ5LrSvzJ",
      "metadata": {
        "colab": {
          "base_uri": "https://localhost:8080/",
          "height": 206
        },
        "id": "OPuUQ5LrSvzJ",
        "outputId": "c3715f6e-bdd1-4fa9-b45f-1717583c92b7"
      },
      "outputs": [
        {
          "data": {
            "text/html": [
              "<div>\n",
              "<style scoped>\n",
              "    .dataframe tbody tr th:only-of-type {\n",
              "        vertical-align: middle;\n",
              "    }\n",
              "\n",
              "    .dataframe tbody tr th {\n",
              "        vertical-align: top;\n",
              "    }\n",
              "\n",
              "    .dataframe thead th {\n",
              "        text-align: right;\n",
              "    }\n",
              "</style>\n",
              "<table border=\"1\" class=\"dataframe\">\n",
              "  <thead>\n",
              "    <tr style=\"text-align: right;\">\n",
              "      <th></th>\n",
              "      <th>listing_id</th>\n",
              "      <th>date</th>\n",
              "      <th>available</th>\n",
              "      <th>price_in_dollar</th>\n",
              "      <th>minimum_nights</th>\n",
              "      <th>maximum_nights</th>\n",
              "      <th>five_day_dollar_price</th>\n",
              "    </tr>\n",
              "  </thead>\n",
              "  <tbody>\n",
              "    <tr>\n",
              "      <th>365</th>\n",
              "      <td>35815036</td>\n",
              "      <td>2022-06-05</td>\n",
              "      <td>False</td>\n",
              "      <td>105.0</td>\n",
              "      <td>3</td>\n",
              "      <td>1125</td>\n",
              "      <td>525.0</td>\n",
              "    </tr>\n",
              "    <tr>\n",
              "      <th>367</th>\n",
              "      <td>35815036</td>\n",
              "      <td>2022-06-07</td>\n",
              "      <td>True</td>\n",
              "      <td>105.0</td>\n",
              "      <td>3</td>\n",
              "      <td>1125</td>\n",
              "      <td>525.0</td>\n",
              "    </tr>\n",
              "    <tr>\n",
              "      <th>368</th>\n",
              "      <td>35815036</td>\n",
              "      <td>2022-06-08</td>\n",
              "      <td>True</td>\n",
              "      <td>105.0</td>\n",
              "      <td>3</td>\n",
              "      <td>1125</td>\n",
              "      <td>525.0</td>\n",
              "    </tr>\n",
              "    <tr>\n",
              "      <th>369</th>\n",
              "      <td>35815036</td>\n",
              "      <td>2022-06-09</td>\n",
              "      <td>True</td>\n",
              "      <td>105.0</td>\n",
              "      <td>3</td>\n",
              "      <td>1125</td>\n",
              "      <td>525.0</td>\n",
              "    </tr>\n",
              "    <tr>\n",
              "      <th>370</th>\n",
              "      <td>35815036</td>\n",
              "      <td>2022-06-10</td>\n",
              "      <td>False</td>\n",
              "      <td>105.0</td>\n",
              "      <td>3</td>\n",
              "      <td>1125</td>\n",
              "      <td>525.0</td>\n",
              "    </tr>\n",
              "  </tbody>\n",
              "</table>\n",
              "</div>"
            ],
            "text/plain": [
              "     listing_id       date  available  price_in_dollar  minimum_nights  \\\n",
              "365    35815036 2022-06-05      False            105.0               3   \n",
              "367    35815036 2022-06-07       True            105.0               3   \n",
              "368    35815036 2022-06-08       True            105.0               3   \n",
              "369    35815036 2022-06-09       True            105.0               3   \n",
              "370    35815036 2022-06-10      False            105.0               3   \n",
              "\n",
              "     maximum_nights  five_day_dollar_price  \n",
              "365            1125                  525.0  \n",
              "367            1125                  525.0  \n",
              "368            1125                  525.0  \n",
              "369            1125                  525.0  \n",
              "370            1125                  525.0  "
            ]
          },
          "execution_count": 44,
          "metadata": {},
          "output_type": "execute_result"
        }
      ],
      "source": [
        "calendar_ndf.head(5)"
      ]
    },
    {
      "cell_type": "markdown",
      "id": "b181c54a-0339-422e-853f-0e88a212d009",
      "metadata": {
        "id": "b181c54a-0339-422e-853f-0e88a212d009"
      },
      "source": [
        "| Related functions |\n",
        "| ---- |\n",
        "| [isin()](https://pandas.pydata.org/pandas-docs/stable/reference/api/pandas.DataFrame.isin.html): Filter the DataFrame on provided values |\n",
        "| [eq()](https://pandas.pydata.org/pandas-docs/stable/reference/api/pandas.DataFrame.eq.html#pandas.DataFrame.eq): Filter the DataFrame for all values equal to the provided input |\n",
        "| [ne()](https://pandas.pydata.org/pandas-docs/stable/reference/api/pandas.DataFrame.ne.html#pandas.DataFrame.ne): Filter the DataFrame for all values not equal to the provided input |"
      ]
    },
    {
      "cell_type": "code",
      "execution_count": 45,
      "id": "0wA7LRZfGOk-",
      "metadata": {
        "id": "0wA7LRZfGOk-"
      },
      "outputs": [],
      "source": [
        "calendar_ndf[\"five_day_dollar_price\"] = calendar_newdf[\"price_in_dollar\"] * 5 "
      ]
    },
    {
      "cell_type": "code",
      "execution_count": 46,
      "id": "23ba3117-bd59-48af-82b4-91bb4562244d",
      "metadata": {
        "colab": {
          "base_uri": "https://localhost:8080/",
          "height": 175
        },
        "id": "23ba3117-bd59-48af-82b4-91bb4562244d",
        "outputId": "d0104093-f074-4eb4-c53f-59b22062e075"
      },
      "outputs": [
        {
          "data": {
            "text/html": [
              "<div>\n",
              "<style scoped>\n",
              "    .dataframe tbody tr th:only-of-type {\n",
              "        vertical-align: middle;\n",
              "    }\n",
              "\n",
              "    .dataframe tbody tr th {\n",
              "        vertical-align: top;\n",
              "    }\n",
              "\n",
              "    .dataframe thead th {\n",
              "        text-align: right;\n",
              "    }\n",
              "</style>\n",
              "<table border=\"1\" class=\"dataframe\">\n",
              "  <thead>\n",
              "    <tr style=\"text-align: right;\">\n",
              "      <th></th>\n",
              "      <th>available</th>\n",
              "      <th>five_day_dollar_price</th>\n",
              "    </tr>\n",
              "    <tr>\n",
              "      <th>listing_id</th>\n",
              "      <th></th>\n",
              "      <th></th>\n",
              "    </tr>\n",
              "  </thead>\n",
              "  <tbody>\n",
              "    <tr>\n",
              "      <th>2818</th>\n",
              "      <td>0.208219</td>\n",
              "      <td>346.90411</td>\n",
              "    </tr>\n",
              "    <tr>\n",
              "      <th>44391</th>\n",
              "      <td>0.000000</td>\n",
              "      <td>1200.00000</td>\n",
              "    </tr>\n",
              "    <tr>\n",
              "      <th>49552</th>\n",
              "      <td>0.458101</td>\n",
              "      <td>1162.50000</td>\n",
              "    </tr>\n",
              "  </tbody>\n",
              "</table>\n",
              "</div>"
            ],
            "text/plain": [
              "            available  five_day_dollar_price\n",
              "listing_id                                  \n",
              "2818         0.208219              346.90411\n",
              "44391        0.000000             1200.00000\n",
              "49552        0.458101             1162.50000"
            ]
          },
          "execution_count": 46,
          "metadata": {},
          "output_type": "execute_result"
        }
      ],
      "source": [
        "calendar_summarizeddf = pd.pivot_table(\n",
        "    data=calendar_ndf,\n",
        "    index=[\"listing_id\"],\n",
        "    values=[\"available\", \"five_day_dollar_price\"],\n",
        "    aggfunc=np.mean,  # The default aggregation function used\n",
        "    # for merging multiple related rows of data.\n",
        ")\n",
        "\n",
        "calendar_summarizeddf.head(3)"
      ]
    },
    {
      "cell_type": "markdown",
      "id": "d8d6a84b-1b7d-4d7d-b5b5-ab5b6b039db4",
      "metadata": {
        "id": "d8d6a84b-1b7d-4d7d-b5b5-ab5b6b039db4"
      },
      "source": [
        "#### (Extra Credit) Task 16: Maximum price and date\n",
        "\n",
        "[*\\[Related section on CoRise\\]*](https://corise.com/course/python-for-data-science/v2/module/merging-pros#corise_cl9woiqve006p3b6p0vsdbqge)\n",
        "\n",
        "Can you make a **pivot table** that states the **maximum `price_in_dollar`** for every Airbnb listing?\n",
        "\n",
        "The expected pivot table output should look like.\n",
        "\n",
        "|listing\\_id|price\\_in\\_dollar|\n",
        "|---|---|\n",
        "|2818|80\\.0|\n",
        "|44391|240\\.0|\n",
        "|49552|300\\.0|"
      ]
    },
    {
      "cell_type": "code",
      "execution_count": 47,
      "id": "n6p8HXByHsup",
      "metadata": {
        "colab": {
          "base_uri": "https://localhost:8080/",
          "height": 175
        },
        "id": "n6p8HXByHsup",
        "outputId": "61d62237-8715-441a-f36b-de4d46a3787c"
      },
      "outputs": [
        {
          "data": {
            "text/html": [
              "<div>\n",
              "<style scoped>\n",
              "    .dataframe tbody tr th:only-of-type {\n",
              "        vertical-align: middle;\n",
              "    }\n",
              "\n",
              "    .dataframe tbody tr th {\n",
              "        vertical-align: top;\n",
              "    }\n",
              "\n",
              "    .dataframe thead th {\n",
              "        text-align: right;\n",
              "    }\n",
              "</style>\n",
              "<table border=\"1\" class=\"dataframe\">\n",
              "  <thead>\n",
              "    <tr style=\"text-align: right;\">\n",
              "      <th></th>\n",
              "      <th>price_in_dollar</th>\n",
              "    </tr>\n",
              "    <tr>\n",
              "      <th>listing_id</th>\n",
              "      <th></th>\n",
              "    </tr>\n",
              "  </thead>\n",
              "  <tbody>\n",
              "    <tr>\n",
              "      <th>2818</th>\n",
              "      <td>80.0</td>\n",
              "    </tr>\n",
              "    <tr>\n",
              "      <th>44391</th>\n",
              "      <td>240.0</td>\n",
              "    </tr>\n",
              "    <tr>\n",
              "      <th>49552</th>\n",
              "      <td>300.0</td>\n",
              "    </tr>\n",
              "  </tbody>\n",
              "</table>\n",
              "</div>"
            ],
            "text/plain": [
              "            price_in_dollar\n",
              "listing_id                 \n",
              "2818                   80.0\n",
              "44391                 240.0\n",
              "49552                 300.0"
            ]
          },
          "execution_count": 47,
          "metadata": {},
          "output_type": "execute_result"
        }
      ],
      "source": [
        "temp_sum_df = pd.pivot_table(\n",
        "    data = calendar_ndf, \n",
        "    index = [\"listing_id\"], \n",
        "    values = [\"price_in_dollar\"], \n",
        "    aggfunc = np.max, \n",
        ")\n",
        "\n",
        "temp_sum_df.head(3)"
      ]
    },
    {
      "cell_type": "markdown",
      "id": "43c76adb-67da-4c37-ad9d-550b03c1d332",
      "metadata": {
        "id": "43c76adb-67da-4c37-ad9d-550b03c1d332"
      },
      "source": [
        "#### Task 17: Mergin'\n",
        "\n",
        "[*\\[Related section on CoRise\\]*](https://corise.com/course/python-for-data-science/v2/module/merging-pros#corise_cl9wp1zf9007m3b6pfiawiagd)\n",
        "\n",
        "Let's use the [`pd.merge()`](https://pandas.pydata.org/docs/reference/api/pandas.DataFrame.merge.html) operation as was shown on CoRise, with the pivot table on the right and the **Listings DataFrame** on the left. Make sure to provide which columns you want to join on for our pivot table and the DataFrame.\n",
        "\n",
        "\n",
        "The expected merged table should look same as\n",
        "\n",
        "|index|id|host\\_acceptance\\_rate|host\\_is\\_superhost|neighbourhood\\_cleansed|latitude|longitude|room\\_type|accommodates|bedrooms|beds|amenities|price|minimum\\_nights|maximum\\_nights|has\\_availability|availability\\_30|number\\_of\\_reviews\\_l30d|review\\_scores\\_rating|instant\\_bookable|price\\_per\\_person|\n",
        "|---|---|---|---|---|---|---|---|---|---|---|---|---|---|---|---|---|---|---|---|---|\n",
        "|0|35815036|1\\.0|true|Noord-Oost|52\\.42419|4\\.95689|Entire home/apt|2|1|1|5|105\\.0|3|100|true|4|6|4\\.96|false|52\\.5|\n",
        "|1|19572024|1\\.0|false|Watergraafsmeer|52\\.30739|4\\.90833|Entire home/apt|6|3|6|14|279\\.0|3|300|true|6|3|4\\.69|false|46\\.5|\n",
        "|2|2973384|0\\.38|false|Watergraafsmeer|52\\.30989|4\\.90528|Entire home/apt|5|3|3|7|185\\.0|6|21|true|0|0|4\\.83|false|37\\.0|"
      ]
    },
    {
      "cell_type": "code",
      "execution_count": 48,
      "id": "f0FIdh0CIyY6",
      "metadata": {
        "colab": {
          "base_uri": "https://localhost:8080/",
          "height": 260
        },
        "id": "f0FIdh0CIyY6",
        "outputId": "89ecbeaf-e65a-4f22-97d9-e4788d7817a4"
      },
      "outputs": [
        {
          "data": {
            "text/html": [
              "<div>\n",
              "<style scoped>\n",
              "    .dataframe tbody tr th:only-of-type {\n",
              "        vertical-align: middle;\n",
              "    }\n",
              "\n",
              "    .dataframe tbody tr th {\n",
              "        vertical-align: top;\n",
              "    }\n",
              "\n",
              "    .dataframe thead th {\n",
              "        text-align: right;\n",
              "    }\n",
              "</style>\n",
              "<table border=\"1\" class=\"dataframe\">\n",
              "  <thead>\n",
              "    <tr style=\"text-align: right;\">\n",
              "      <th></th>\n",
              "      <th>id</th>\n",
              "      <th>host_acceptance_rate</th>\n",
              "      <th>host_is_superhost</th>\n",
              "      <th>neighbourhood</th>\n",
              "      <th>latitude</th>\n",
              "      <th>longitude</th>\n",
              "      <th>room_type</th>\n",
              "      <th>accommodates</th>\n",
              "      <th>bedrooms</th>\n",
              "      <th>beds</th>\n",
              "      <th>...</th>\n",
              "      <th>review_scores_rating</th>\n",
              "      <th>instant_bookable</th>\n",
              "      <th>price_per_person</th>\n",
              "      <th>minimum_price</th>\n",
              "      <th>discount_per_5_days_booked</th>\n",
              "      <th>discount_per_10_days_booked</th>\n",
              "      <th>discount_per_30_and_more_days_booked</th>\n",
              "      <th>service_cost</th>\n",
              "      <th>available</th>\n",
              "      <th>five_day_dollar_price</th>\n",
              "    </tr>\n",
              "  </thead>\n",
              "  <tbody>\n",
              "    <tr>\n",
              "      <th>0</th>\n",
              "      <td>19572024</td>\n",
              "      <td>1.00</td>\n",
              "      <td>False</td>\n",
              "      <td>Watergraafsmeer</td>\n",
              "      <td>52.30739</td>\n",
              "      <td>4.908330</td>\n",
              "      <td>Entire home/apt</td>\n",
              "      <td>6</td>\n",
              "      <td>3</td>\n",
              "      <td>6</td>\n",
              "      <td>...</td>\n",
              "      <td>4.69</td>\n",
              "      <td>False</td>\n",
              "      <td>46.5</td>\n",
              "      <td>837.0</td>\n",
              "      <td>9%</td>\n",
              "      <td>16%</td>\n",
              "      <td>14%</td>\n",
              "      <td>4.99</td>\n",
              "      <td>0.816438</td>\n",
              "      <td>1496.547945</td>\n",
              "    </tr>\n",
              "    <tr>\n",
              "      <th>1</th>\n",
              "      <td>2973384</td>\n",
              "      <td>0.38</td>\n",
              "      <td>False</td>\n",
              "      <td>Watergraafsmeer</td>\n",
              "      <td>52.30989</td>\n",
              "      <td>4.905280</td>\n",
              "      <td>Entire home/apt</td>\n",
              "      <td>5</td>\n",
              "      <td>3</td>\n",
              "      <td>3</td>\n",
              "      <td>...</td>\n",
              "      <td>4.83</td>\n",
              "      <td>False</td>\n",
              "      <td>37.0</td>\n",
              "      <td>1110.0</td>\n",
              "      <td>6%</td>\n",
              "      <td>12%</td>\n",
              "      <td>18%</td>\n",
              "      <td>4.99</td>\n",
              "      <td>0.035616</td>\n",
              "      <td>941.301370</td>\n",
              "    </tr>\n",
              "    <tr>\n",
              "      <th>2</th>\n",
              "      <td>34985473</td>\n",
              "      <td>1.00</td>\n",
              "      <td>True</td>\n",
              "      <td>Noord-Oost</td>\n",
              "      <td>52.42831</td>\n",
              "      <td>5.042191</td>\n",
              "      <td>Entire home/apt</td>\n",
              "      <td>5</td>\n",
              "      <td>2</td>\n",
              "      <td>4</td>\n",
              "      <td>...</td>\n",
              "      <td>4.43</td>\n",
              "      <td>False</td>\n",
              "      <td>27.0</td>\n",
              "      <td>810.0</td>\n",
              "      <td>8%</td>\n",
              "      <td>13%</td>\n",
              "      <td>17%</td>\n",
              "      <td>4.99</td>\n",
              "      <td>0.161644</td>\n",
              "      <td>748.561644</td>\n",
              "    </tr>\n",
              "  </tbody>\n",
              "</table>\n",
              "<p>3 rows × 27 columns</p>\n",
              "</div>"
            ],
            "text/plain": [
              "         id  host_acceptance_rate  host_is_superhost    neighbourhood  \\\n",
              "0  19572024                  1.00              False  Watergraafsmeer   \n",
              "1   2973384                  0.38              False  Watergraafsmeer   \n",
              "2  34985473                  1.00               True       Noord-Oost   \n",
              "\n",
              "   latitude  longitude        room_type  accommodates  bedrooms  beds  ...  \\\n",
              "0  52.30739   4.908330  Entire home/apt             6         3     6  ...   \n",
              "1  52.30989   4.905280  Entire home/apt             5         3     3  ...   \n",
              "2  52.42831   5.042191  Entire home/apt             5         2     4  ...   \n",
              "\n",
              "   review_scores_rating  instant_bookable  price_per_person  minimum_price  \\\n",
              "0                  4.69             False              46.5          837.0   \n",
              "1                  4.83             False              37.0         1110.0   \n",
              "2                  4.43             False              27.0          810.0   \n",
              "\n",
              "   discount_per_5_days_booked  discount_per_10_days_booked  \\\n",
              "0                          9%                          16%   \n",
              "1                          6%                          12%   \n",
              "2                          8%                          13%   \n",
              "\n",
              "   discount_per_30_and_more_days_booked  service_cost  available  \\\n",
              "0                                   14%          4.99   0.816438   \n",
              "1                                   18%          4.99   0.035616   \n",
              "2                                   17%          4.99   0.161644   \n",
              "\n",
              "   five_day_dollar_price  \n",
              "0            1496.547945  \n",
              "1             941.301370  \n",
              "2             748.561644  \n",
              "\n",
              "[3 rows x 27 columns]"
            ]
          },
          "execution_count": 48,
          "metadata": {},
          "output_type": "execute_result"
        }
      ],
      "source": [
        "final_df = pd.merge(\n",
        "    df_list, \n",
        "    calendar_summarizeddf, \n",
        "    left_on= \"id\", \n",
        "    right_on = \"listing_id\", \n",
        "    how = \"inner\"\n",
        "  )\n",
        "final_df.head(3)"
      ]
    },
    {
      "cell_type": "code",
      "execution_count": 49,
      "id": "5ce31361",
      "metadata": {},
      "outputs": [
        {
          "name": "stderr",
          "output_type": "stream",
          "text": [
            "/Users/dr.gauravsablok/opt/anaconda3/lib/python3.9/site-packages/dtale/views.py:746: FutureWarning:\n",
            "\n",
            "['neighbourhood', 'room_type'] did not aggregate successfully. If any error is raised this will raise in a future version of pandas. Drop these columns/ops to avoid this warning.\n",
            "\n"
          ]
        },
        {
          "data": {
            "text/html": [
              "\n",
              "        <iframe\n",
              "            width=\"100%\"\n",
              "            height=\"475\"\n",
              "            src=\"http://localhost:40000/dtale/iframe/4\"\n",
              "            frameborder=\"0\"\n",
              "            allowfullscreen\n",
              "            \n",
              "        ></iframe>\n",
              "        "
            ],
            "text/plain": [
              "<IPython.lib.display.IFrame at 0x7fc64cdf6ee0>"
            ]
          },
          "metadata": {},
          "output_type": "display_data"
        },
        {
          "data": {
            "text/plain": []
          },
          "execution_count": 49,
          "metadata": {},
          "output_type": "execute_result"
        }
      ],
      "source": [
        "dtale.show(final_df)"
      ]
    },
    {
      "cell_type": "markdown",
      "id": "1c891740-71b1-4617-b41c-a3f310906eb6",
      "metadata": {
        "id": "1c891740-71b1-4617-b41c-a3f310906eb6"
      },
      "source": [
        "---\n",
        "\n",
        "#### (Extra Credit) Task 18: Groups are great\n",
        "\n",
        "[*\\[Related section on CoRise\\]*](https://corise.com/course/python-for-data-science/v2/module/data-explore-stats#corise_cl9wpp3t100n53b6pmv167sm7)\n",
        "\n",
        "Now, let's perform a [`groupby`](https://pandas.pydata.org/docs/reference/api/pandas.DataFrame.groupby.html) where we look at the median values of `five_day_dollar_price` and `review_scores_accuracy` with respect to the `room_type`. Do these results match your intuition?\n",
        "\n",
        "\n",
        "The expected group by table should look same as,\n",
        "\n",
        "|room\\_type|review\\_scores\\_rating|five\\_day\\_dollar\\_price|\n",
        "|---|---|---|\n",
        "|Entire home/apt|4\\.88|972\\.7397260273973|\n",
        "|Hotel room|4\\.5649999999999995|908\\.1575342465753|\n",
        "|Private room|4\\.79|681\\.986301369863|\n",
        "|Shared room|4\\.6|565\\.027397260274|"
      ]
    },
    {
      "cell_type": "code",
      "execution_count": null,
      "id": "0wyuhz4wJRgt",
      "metadata": {
        "colab": {
          "base_uri": "https://localhost:8080/",
          "height": 206
        },
        "id": "0wyuhz4wJRgt",
        "outputId": "2310e577-431b-434d-9512-c1319905b57f"
      },
      "outputs": [
        {
          "data": {
            "text/html": [
              "\n",
              "  <div id=\"df-ce0cd2e0-a964-450a-b8aa-e69cbdd28bbd\">\n",
              "    <div class=\"colab-df-container\">\n",
              "      <div>\n",
              "<style scoped>\n",
              "    .dataframe tbody tr th:only-of-type {\n",
              "        vertical-align: middle;\n",
              "    }\n",
              "\n",
              "    .dataframe tbody tr th {\n",
              "        vertical-align: top;\n",
              "    }\n",
              "\n",
              "    .dataframe thead th {\n",
              "        text-align: right;\n",
              "    }\n",
              "</style>\n",
              "<table border=\"1\" class=\"dataframe\">\n",
              "  <thead>\n",
              "    <tr style=\"text-align: right;\">\n",
              "      <th></th>\n",
              "      <th>review_scores_rating</th>\n",
              "      <th>five_day_dollar_price</th>\n",
              "    </tr>\n",
              "    <tr>\n",
              "      <th>room_type</th>\n",
              "      <th></th>\n",
              "      <th></th>\n",
              "    </tr>\n",
              "  </thead>\n",
              "  <tbody>\n",
              "    <tr>\n",
              "      <th>Entire home/apt</th>\n",
              "      <td>4.88</td>\n",
              "      <td>975.00</td>\n",
              "    </tr>\n",
              "    <tr>\n",
              "      <th>Hotel room</th>\n",
              "      <td>4.56</td>\n",
              "      <td>1110.16</td>\n",
              "    </tr>\n",
              "    <tr>\n",
              "      <th>Private room</th>\n",
              "      <td>4.79</td>\n",
              "      <td>710.91</td>\n",
              "    </tr>\n",
              "    <tr>\n",
              "      <th>Shared room</th>\n",
              "      <td>4.60</td>\n",
              "      <td>724.11</td>\n",
              "    </tr>\n",
              "  </tbody>\n",
              "</table>\n",
              "</div>\n",
              "      <button class=\"colab-df-convert\" onclick=\"convertToInteractive('df-ce0cd2e0-a964-450a-b8aa-e69cbdd28bbd')\"\n",
              "              title=\"Convert this dataframe to an interactive table.\"\n",
              "              style=\"display:none;\">\n",
              "        \n",
              "  <svg xmlns=\"http://www.w3.org/2000/svg\" height=\"24px\"viewBox=\"0 0 24 24\"\n",
              "       width=\"24px\">\n",
              "    <path d=\"M0 0h24v24H0V0z\" fill=\"none\"/>\n",
              "    <path d=\"M18.56 5.44l.94 2.06.94-2.06 2.06-.94-2.06-.94-.94-2.06-.94 2.06-2.06.94zm-11 1L8.5 8.5l.94-2.06 2.06-.94-2.06-.94L8.5 2.5l-.94 2.06-2.06.94zm10 10l.94 2.06.94-2.06 2.06-.94-2.06-.94-.94-2.06-.94 2.06-2.06.94z\"/><path d=\"M17.41 7.96l-1.37-1.37c-.4-.4-.92-.59-1.43-.59-.52 0-1.04.2-1.43.59L10.3 9.45l-7.72 7.72c-.78.78-.78 2.05 0 2.83L4 21.41c.39.39.9.59 1.41.59.51 0 1.02-.2 1.41-.59l7.78-7.78 2.81-2.81c.8-.78.8-2.07 0-2.86zM5.41 20L4 18.59l7.72-7.72 1.47 1.35L5.41 20z\"/>\n",
              "  </svg>\n",
              "      </button>\n",
              "      \n",
              "  <style>\n",
              "    .colab-df-container {\n",
              "      display:flex;\n",
              "      flex-wrap:wrap;\n",
              "      gap: 12px;\n",
              "    }\n",
              "\n",
              "    .colab-df-convert {\n",
              "      background-color: #E8F0FE;\n",
              "      border: none;\n",
              "      border-radius: 50%;\n",
              "      cursor: pointer;\n",
              "      display: none;\n",
              "      fill: #1967D2;\n",
              "      height: 32px;\n",
              "      padding: 0 0 0 0;\n",
              "      width: 32px;\n",
              "    }\n",
              "\n",
              "    .colab-df-convert:hover {\n",
              "      background-color: #E2EBFA;\n",
              "      box-shadow: 0px 1px 2px rgba(60, 64, 67, 0.3), 0px 1px 3px 1px rgba(60, 64, 67, 0.15);\n",
              "      fill: #174EA6;\n",
              "    }\n",
              "\n",
              "    [theme=dark] .colab-df-convert {\n",
              "      background-color: #3B4455;\n",
              "      fill: #D2E3FC;\n",
              "    }\n",
              "\n",
              "    [theme=dark] .colab-df-convert:hover {\n",
              "      background-color: #434B5C;\n",
              "      box-shadow: 0px 1px 3px 1px rgba(0, 0, 0, 0.15);\n",
              "      filter: drop-shadow(0px 1px 2px rgba(0, 0, 0, 0.3));\n",
              "      fill: #FFFFFF;\n",
              "    }\n",
              "  </style>\n",
              "\n",
              "      <script>\n",
              "        const buttonEl =\n",
              "          document.querySelector('#df-ce0cd2e0-a964-450a-b8aa-e69cbdd28bbd button.colab-df-convert');\n",
              "        buttonEl.style.display =\n",
              "          google.colab.kernel.accessAllowed ? 'block' : 'none';\n",
              "\n",
              "        async function convertToInteractive(key) {\n",
              "          const element = document.querySelector('#df-ce0cd2e0-a964-450a-b8aa-e69cbdd28bbd');\n",
              "          const dataTable =\n",
              "            await google.colab.kernel.invokeFunction('convertToInteractive',\n",
              "                                                     [key], {});\n",
              "          if (!dataTable) return;\n",
              "\n",
              "          const docLinkHtml = 'Like what you see? Visit the ' +\n",
              "            '<a target=\"_blank\" href=https://colab.research.google.com/notebooks/data_table.ipynb>data table notebook</a>'\n",
              "            + ' to learn more about interactive tables.';\n",
              "          element.innerHTML = '';\n",
              "          dataTable['output_type'] = 'display_data';\n",
              "          await google.colab.output.renderOutput(dataTable, element);\n",
              "          const docLink = document.createElement('div');\n",
              "          docLink.innerHTML = docLinkHtml;\n",
              "          element.appendChild(docLink);\n",
              "        }\n",
              "      </script>\n",
              "    </div>\n",
              "  </div>\n",
              "  "
            ],
            "text/plain": [
              "                 review_scores_rating  five_day_dollar_price\n",
              "room_type                                                   \n",
              "Entire home/apt                  4.88                 975.00\n",
              "Hotel room                       4.56                1110.16\n",
              "Private room                     4.79                 710.91\n",
              "Shared room                      4.60                 724.11"
            ]
          },
          "execution_count": 98,
          "metadata": {},
          "output_type": "execute_result"
        }
      ],
      "source": [
        "final_df.groupby(by = [\"room_type\"])[[\"review_scores_rating\", \"five_day_dollar_price\"]].median()"
      ]
    },
    {
      "cell_type": "markdown",
      "id": "3050a784-f466-48f7-8a39-d86e4be34fcb",
      "metadata": {
        "id": "3050a784-f466-48f7-8a39-d86e4be34fcb"
      },
      "source": [
        "You might have expected that shared rooms are the cheapest and thus have the lowest rating with respect to median scores. The same can't be said for the most expensive option — a hotel room. Will this influence your future considerations when booking 🤔?\n",
        "\n",
        "(But before you let this influence your decisions too much, it might be better to assume that this data might be biased in favor of Airbnb and not hotels in general. 🤷)\n",
        "\n",
        "---"
      ]
    },
    {
      "cell_type": "markdown",
      "id": "zskplBMla6zo",
      "metadata": {
        "id": "zskplBMla6zo"
      },
      "source": [
        "You've walked through all the most important parts of Pandas. It's a really easy-to-use library that shares a lot of syntax with NumPy. It is great for analyzing and cleaning datasets, and as you might have discovered with the previous code, Pandas allows you to really go into the nitty-gritty details of your dataset. These skills are invaluable for a data scientist, and will empower you to utilize data where you work now, or even where you could work in the future!\n",
        "\n",
        "The next steps involve downloading the files to your local computer so that you can make an app for your portfolio. After, we will provide some suggestions on how you can extend this project, along with some interesting links to investigate."
      ]
    },
    {
      "cell_type": "markdown",
      "id": "vtFPkCD49UbC",
      "metadata": {
        "id": "vtFPkCD49UbC"
      },
      "source": [
        "### Download the Dataset to Your Local Machine\n",
        "\n",
        "Let's first export our final DataFrame."
      ]
    },
    {
      "cell_type": "markdown",
      "id": "kVpFcu8ULC8-",
      "metadata": {
        "id": "kVpFcu8ULC8-"
      },
      "source": [
        "Google Colab comes with its own Python packages that allow us to quickly download generated files, like so:"
      ]
    },
    {
      "cell_type": "markdown",
      "id": "Uk00nl03LJtI",
      "metadata": {
        "id": "Uk00nl03LJtI"
      },
      "source": [
        "### Make an App for Your Portfolio!\n",
        "\n",
        "<center>\n",
        "  <img src=https://griddb-pro.azureedge.net/en/wp-content/uploads/2021/08/streamlit-1160x650.png width=\"500\" align=\"center\" />\n",
        "</center>\n",
        "<br/>\n",
        "\n",
        "**Participants such as yourselves often want to use the weekly CoRise projects for their portfolios. To facilitate that, we've created this section. It might seem like a lot, but it's actually just following instructions and copy-pasting. Reach out on Slack if you get stuck!** \n",
        "\n",
        "You will make an app that visualizes the dataset as a DataFrame and as a geographic visualization like so:\n",
        "\n",
        "<center>\n",
        "  <img src=https://i.ibb.co/N9JKbd8/Screen-Shot-2022-11-10-at-4-07-17-PM.png width=\"500\" align=\"center\" />\n",
        "</center>\n",
        "<br/>\n",
        "\n",
        "To visualize this, we will again use a library called [Streamlit](https://streamlit.io/). For now you are not expected to know how Streamlit works, but you are expected to be able to copy-paste and follow instructions if you want to share this project as part of your portfolio!\n",
        "\n",
        "We are going to use [Streamlit Share](https://share.streamlit.io/) to host your projects. It's a website that allows us to host our interactive projects for free online! Again, we don't expect you to understand how to use and/or modify the code shown below. We do expect you to read the instructions and copy-paste our code to the Streamlit Share platform. Feel free to change it any way you like. Some great starting points are [here](https://python.plainenglish.io/how-to-build-web-app-using-streamlit-pandas-numpy-5e134f0cf552), [here](https://docs.streamlit.io/library/get-started/create-an-app), [here](https://streamlit.io/components), and [here](https://streamlit.io/gallery)!\n",
        "\n",
        "The `app.py` below is based on [this code](https://github.com/tylerjrichards/st-filter-dataframe/blob/main/streamlit_app.py). Feel free to extend it if you like!"
      ]
    },
    {
      "cell_type": "markdown",
      "id": "HV5Os71FhUFA",
      "metadata": {
        "id": "HV5Os71FhUFA"
      },
      "source": [
        "The **%%writefile [FILE_NAME].[FILE_EXTENSION]** command let's us save the code written in the cells in your Google Colab instance. Having it saved like that enables us to download it as a file, as seen below."
      ]
    },
    {
      "cell_type": "markdown",
      "id": "cd9b1585-367b-42ed-8a6c-8d6c7eac41eb",
      "metadata": {
        "id": "cd9b1585-367b-42ed-8a6c-8d6c7eac41eb"
      },
      "source": [
        "---\n",
        "\n",
        "# 🎉 CONGRATULATIONS!!!\n",
        "\n",
        "You've made it to the end of the Week 2 assignment! You should be proud. \n",
        "\n",
        "If you have any lingering questions, post them on Slack! As you know, we're always here to help.\n",
        "\n",
        "And if you want any additional challenge questions, check out the bonus extensions below.\n",
        "\n",
        "---\n",
        "\n",
        "## Extensions (Optional)\n",
        "\n",
        "<center>\n",
        "  <img src=https://raw.githubusercontent.com/aschonfeld/dtale-media/master/images/Title.png width=\"500\" align=\"center\" />\n",
        "</center>\n",
        "<br/>\n",
        "\n",
        "Awesome 🎉🎉🎉 you are finished with all the tasks! How about considering running [D-Tale](https://github.com/man-group/dtale) on your DataFrames, so you can interactively explore your dataset? What about getting a visual representation of the data and thus a quick overview of what's goin' on by using [Lux](https://github.com/lux-org/lux) or [Sweetviz](https://pypi.org/project/sweetviz/)?\n",
        "\n",
        "If optimizing code gets you excited, then try to see how you can maximize these performance numbers even more. Maybe it's time to try running this code using [cuDF](https://github.com/rapidsai/cudf), [Polars](https://github.com/pola-rs/polars), or [Vaex](https://github.com/vaexio/vaex)?\n",
        "\n",
        "# Next Up?\n",
        "This is the last project of our course 😭😭. Please do not be sad! We would like to invite you to read the \"What's Next?\" post in Week 3, as it contains great suggestions on how you can proceed with your learning journey at CoRise (yes, please!) or somewhere else!"
      ]
    }
  ],
  "metadata": {
    "colab": {
      "provenance": []
    },
    "kernelspec": {
      "display_name": "base",
      "language": "python",
      "name": "python3"
    },
    "language_info": {
      "codemirror_mode": {
        "name": "ipython",
        "version": 3
      },
      "file_extension": ".py",
      "mimetype": "text/x-python",
      "name": "python",
      "nbconvert_exporter": "python",
      "pygments_lexer": "ipython3",
      "version": "3.9.15 (main, Nov 24 2022, 08:29:02) \n[Clang 14.0.6 ]"
    },
    "vscode": {
      "interpreter": {
        "hash": "f731066023ac01cb83b0919592cccda9b3837cfce89d22e0f769b9496944f601"
      }
    }
  },
  "nbformat": 4,
  "nbformat_minor": 5
}
