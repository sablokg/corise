{
 "cells": [
  {
   "cell_type": "code",
   "execution_count": 3,
   "metadata": {},
   "outputs": [],
   "source": [
    "# Importing all the modules\n",
    "import numpy as np\n",
    "import pandas as pd\n",
    "import pprint as pprint"
   ]
  },
  {
   "cell_type": "code",
   "execution_count": 6,
   "metadata": {},
   "outputs": [
    {
     "name": "stderr",
     "output_type": "stream",
     "text": [
      "Downloading...\n",
      "From: https://drive.google.com/uc?id=13fyESiH1ZEnMV6eabAyhe20t4W6peEWK\n",
      "To: /Users/dr.gauravsablok/Desktop/WK1_Airbnb_Amsterdam_listings_proj.csv\n",
      "100%|██████████| 246k/246k [00:00<00:00, 1.03MB/s]\n"
     ]
    },
    {
     "data": {
      "text/plain": [
       "'WK1_Airbnb_Amsterdam_listings_proj.csv'"
      ]
     },
     "execution_count": 6,
     "metadata": {},
     "output_type": "execute_result"
    }
   ],
   "source": [
    "# Task 1 importing the dataset\n",
    "# %pwd for directory check\n",
    "# %cd for directory change\n",
    "import os\n",
    "import shutil\n",
    "import gdown\n",
    "from numpy import genfromtxt\n",
    "# Download file from Google Drive\n",
    "# This file is based on data from: http://insideairbnb.com/get-the-data/\n",
    "file_id_1 = \"13fyESiH1ZEnMV6eabAyhe20t4W6peEWK\"\n",
    "downloaded_file_1 = \"WK1_Airbnb_Amsterdam_listings_proj.csv\"\n",
    "# Download the file from Google Drive\n",
    "gdown.download(id=file_id_1, output=downloaded_file_1)"
   ]
  },
  {
   "cell_type": "code",
   "execution_count": 7,
   "metadata": {},
   "outputs": [],
   "source": [
    "# Making the file varaiable\n",
    "listing = genfromtxt(downloaded_file_1, delimiter=\"|\", dtype=\"unicode\", unpack=True)"
   ]
  },
  {
   "cell_type": "code",
   "execution_count": 8,
   "metadata": {},
   "outputs": [
    {
     "data": {
      "text/plain": [
       "array(['', '$0.00', '$0.00', ..., 'latitude', 'longitude', 'price'],\n",
       "      dtype='<U18')"
      ]
     },
     "execution_count": 8,
     "metadata": {},
     "output_type": "execute_result"
    }
   ],
   "source": [
    "# Sorting the axis\n",
    "np.sort(listing, axis=None)"
   ]
  },
  {
   "cell_type": "code",
   "execution_count": 9,
   "metadata": {},
   "outputs": [
    {
     "name": "stdout",
     "output_type": "stream",
     "text": [
      "[['' 'id' 'price' 'latitude' 'longitude']\n",
      " ['0' '23726706' '$88.00' '52.34916' '4.97879']\n",
      " ['1' '35815036' '$105.00' '52.42419' '4.95689']\n",
      " ['2' '31553121' '$152.00' '52.43237' '4.91821']\n",
      " ['3' '34745823' '$87.00' '52.2962' '5.01231']\n",
      " ['4' '44586947' '$160.00' '52.31475' '5.0303']\n",
      " ['5' '15801253' '$90.00' '52.34507' '4.96413']\n",
      " ['6' '19572024' '$279.00' '52.30739' '4.90833']\n",
      " ['7' '18801518' '$140.00' '52.33828' '4.96443']\n",
      " ['8' '2973384' '$185.00' '52.30989' '4.90528']]\n"
     ]
    }
   ],
   "source": [
    "# Printing the matrix\n",
    "print(listing[:][:10])"
   ]
  },
  {
   "cell_type": "code",
   "execution_count": 10,
   "metadata": {},
   "outputs": [],
   "source": [
    "# Cleaning the listing\n",
    "list_clean = np.delete(listing, (0), axis = 0)\n",
    "list_clean = np.delete(listing, (0), axis = 1)"
   ]
  },
  {
   "cell_type": "code",
   "execution_count": 11,
   "metadata": {},
   "outputs": [
    {
     "name": "stdout",
     "output_type": "stream",
     "text": [
      "[['id' 'price' 'latitude' 'longitude']\n",
      " ['23726706' '$88.00' '52.34916' '4.97879']\n",
      " ['35815036' '$105.00' '52.42419' '4.95689']\n",
      " ['31553121' '$152.00' '52.43237' '4.91821']\n",
      " ['34745823' '$87.00' '52.2962' '5.01231']\n",
      " ['44586947' '$160.00' '52.31475' '5.0303']\n",
      " ['15801253' '$90.00' '52.34507' '4.96413']\n",
      " ['19572024' '$279.00' '52.30739' '4.90833']\n",
      " ['18801518' '$140.00' '52.33828' '4.96443']\n",
      " ['2973384' '$185.00' '52.30989' '4.90528']]\n"
     ]
    }
   ],
   "source": [
    "# printing the cleaned list\n",
    "print(list_clean[:][:10])"
   ]
  },
  {
   "cell_type": "code",
   "execution_count": 12,
   "metadata": {},
   "outputs": [
    {
     "data": {
      "text/plain": [
       "(array(['id', 'latitude', 'longitude', 'price'], dtype='<U18'),\n",
       " array([1, 1, 1, 1]))"
      ]
     },
     "execution_count": 12,
     "metadata": {},
     "output_type": "execute_result"
    }
   ],
   "source": [
    "# Checking the unique values in the nd.array\n",
    "np.unique(list_clean[:1], return_counts=True)"
   ]
  },
  {
   "cell_type": "code",
   "execution_count": 13,
   "metadata": {},
   "outputs": [
    {
     "name": "stdout",
     "output_type": "stream",
     "text": [
      "[['id' '23726706' '35815036' ... '35760705' '36900951' '40575103']\n",
      " ['price' '$88.00' '$105.00' ... '$180.00' '$174.00' '$65.00']\n",
      " ['latitude' '52.34916' '52.42419' ... '52.42624' '52.31983' '52.33946']\n",
      " ['longitude' '4.97879' '4.95689' ... '4.90236' '4.86463' '4.95749']]\n"
     ]
    }
   ],
   "source": [
    "# Shift the matrix by 90 degrees\n",
    "list_clean = list_clean.T\n",
    "# Print out the first ten rows\n",
    "# Entries: airbnb_id, price_usd, latitude, longitude\n",
    "print(list_clean[:10][:])"
   ]
  },
  {
   "cell_type": "code",
   "execution_count": 14,
   "metadata": {},
   "outputs": [],
   "source": [
    "# Remove the dollar sign\n",
    "list_clean = np.char.replace(list_clean, \"$\", \"\")"
   ]
  },
  {
   "cell_type": "code",
   "execution_count": 15,
   "metadata": {},
   "outputs": [],
   "source": [
    "# Remove the comma\n",
    "list_clean = np.char.replace(list_clean, \",\", \"\")"
   ]
  },
  {
   "cell_type": "code",
   "execution_count": 16,
   "metadata": {},
   "outputs": [
    {
     "data": {
      "text/plain": [
       "array([], dtype='<U18')"
      ]
     },
     "execution_count": 16,
     "metadata": {},
     "output_type": "execute_result"
    }
   ],
   "source": [
    "# Check if the dollar sign is in our dataset\n",
    "list_clean[np.char.find(list_clean, \"$\") > -1]"
   ]
  },
  {
   "cell_type": "code",
   "execution_count": 17,
   "metadata": {},
   "outputs": [
    {
     "data": {
      "text/plain": [
       "array([], dtype='<U18')"
      ]
     },
     "execution_count": 17,
     "metadata": {},
     "output_type": "execute_result"
    }
   ],
   "source": [
    "# Check if the comma sign is in our dataset\n",
    "list_clean[np.char.find(list_clean, \",\") > -1]"
   ]
  },
  {
   "cell_type": "code",
   "execution_count": 18,
   "metadata": {},
   "outputs": [
    {
     "name": "stdout",
     "output_type": "stream",
     "text": [
      "['id' '23726706' '35815036' ... '35760705' '36900951' '40575103']\n",
      "['price' '88.00' '105.00' ... '180.00' '174.00' '65.00']\n",
      "['latitude' '52.34916' '52.42419' ... '52.42624' '52.31983' '52.33946']\n",
      "['longitude' '4.97879' '4.95689' ... '4.90236' '4.86463' '4.95749']\n"
     ]
    }
   ],
   "source": [
    "# Applying a for loop to check column in detail\n",
    "for i in list_clean:\n",
    "    print(i[:])"
   ]
  },
  {
   "cell_type": "code",
   "execution_count": 19,
   "metadata": {},
   "outputs": [
    {
     "data": {
      "text/plain": [
       "array([[['id', '23726706', '35815036', ..., '35760705', '36900951', '40575103'],\n",
       "        ['price', '88.00', '105.00', ..., '180.00', '174.00', '65.00'],\n",
       "        ['latitude', '52.34916', '52.42419', ..., '52.42624', '52.31983', '52.33946'],\n",
       "        ['longitude', '4.97879', '4.95689', ..., '4.90236', '4.86463', '4.95749']]], dtype='<U18')"
      ]
     },
     "execution_count": 19,
     "metadata": {},
     "output_type": "execute_result"
    }
   ],
   "source": [
    "# Next way to clean printing a array\n",
    "list_clean[np.set_printoptions(suppress=True, linewidth= 100, precision=3)]"
   ]
  },
  {
   "cell_type": "code",
   "execution_count": 30,
   "metadata": {},
   "outputs": [
    {
     "ename": "ValueError",
     "evalue": "could not convert string to float: 'price'",
     "output_type": "error",
     "traceback": [
      "\u001b[0;31m---------------------------------------------------------------------------\u001b[0m",
      "\u001b[0;31mValueError\u001b[0m                                Traceback (most recent call last)",
      "\u001b[0;32m/var/folders/tz/n4vkb4gn1_xfv_qcl3kn9c_c0000gn/T/ipykernel_58186/1002996435.py\u001b[0m in \u001b[0;36m<module>\u001b[0;34m\u001b[0m\n\u001b[1;32m      1\u001b[0m \u001b[0;31m# Change Unicode to float32\u001b[0m\u001b[0;34m\u001b[0m\u001b[0;34m\u001b[0m\u001b[0m\n\u001b[0;32m----> 2\u001b[0;31m \u001b[0mlist_clean\u001b[0m \u001b[0;34m=\u001b[0m \u001b[0mlist_clean\u001b[0m\u001b[0;34m[\u001b[0m\u001b[0;36m1\u001b[0m\u001b[0;34m:\u001b[0m\u001b[0;34m]\u001b[0m\u001b[0;34m[\u001b[0m\u001b[0;34m:\u001b[0m\u001b[0;34m]\u001b[0m\u001b[0;34m.\u001b[0m\u001b[0mastype\u001b[0m\u001b[0;34m(\u001b[0m\u001b[0mfloat\u001b[0m\u001b[0;34m)\u001b[0m\u001b[0;34m\u001b[0m\u001b[0;34m\u001b[0m\u001b[0m\n\u001b[0m\u001b[1;32m      3\u001b[0m \u001b[0;31m# Print out the first five rows (and inspect the dtype for correctness)\u001b[0m\u001b[0;34m\u001b[0m\u001b[0;34m\u001b[0m\u001b[0m\n\u001b[1;32m      4\u001b[0m \u001b[0;31m# Entries: airbnb_id, price_usd, latitude, longitude\u001b[0m\u001b[0;34m\u001b[0m\u001b[0;34m\u001b[0m\u001b[0m\n\u001b[1;32m      5\u001b[0m \u001b[0mprint\u001b[0m\u001b[0;34m(\u001b[0m\u001b[0mlist_clean\u001b[0m\u001b[0;34m[\u001b[0m\u001b[0;34m:\u001b[0m\u001b[0;36m10\u001b[0m\u001b[0;34m]\u001b[0m\u001b[0;34m[\u001b[0m\u001b[0;34m:\u001b[0m\u001b[0;34m]\u001b[0m\u001b[0;34m)\u001b[0m\u001b[0;34m\u001b[0m\u001b[0;34m\u001b[0m\u001b[0m\n",
      "\u001b[0;31mValueError\u001b[0m: could not convert string to float: 'price'"
     ]
    }
   ],
   "source": [
    "# Change Unicode to float32\n",
    "list_clean = list_clean[1:][:].astype(float)\n",
    "# Print out the first five rows (and inspect the dtype for correctness)\n",
    "# Entries: airbnb_id, price_usd, latitude, longitude\n",
    "print(list_clean[:10][:])"
   ]
  },
  {
   "cell_type": "code",
   "execution_count": 33,
   "metadata": {},
   "outputs": [],
   "source": [
    "from currency_converter import CurrencyConverter\n",
    "\n",
    "cc = CurrencyConverter()\n",
    "outcome_EUR = []\n",
    "\n",
    "# Entries: airbnb_id, price_usd, latitude, longitude\n",
    "def convert_usd_to_eur(dollar: float, currency: str):\n",
    "    if currency == \"EUR\":\n",
    "        return cc.convert(dollar, \"USD\", \"EUR\")\n",
    "\n",
    "for i in list_clean[:, 1]:\n",
    "    outcome_EUR.append(convert_usd_to_eur(i, \"EUR\"))"
   ]
  },
  {
   "cell_type": "code",
   "execution_count": 34,
   "metadata": {},
   "outputs": [
    {
     "name": "stdout",
     "output_type": "stream",
     "text": [
      "['23726706' '88.00' '52.34916' '4.97879']\n"
     ]
    }
   ],
   "source": [
    "# printing the matrix\n",
    "print(list_clean[:, 1])"
   ]
  },
  {
   "cell_type": "code",
   "execution_count": 35,
   "metadata": {},
   "outputs": [
    {
     "name": "stdout",
     "output_type": "stream",
     "text": [
      "{'EUR', 'THB', 'IDR', 'LVL', 'JPY', 'SGD', 'LTL', 'SIT', 'NOK', 'ILS', 'BGN', 'INR', 'TRL', 'TRY', 'ZAR', 'EEK', 'ISK', 'GBP', 'RON', 'AUD', 'CHF', 'CNY', 'HKD', 'PHP', 'MYR', 'RUB', 'MXN', 'USD', 'MTL', 'HUF', 'DKK', 'PLN', 'SEK', 'HRK', 'BRL', 'SKK', 'NZD', 'CAD', 'CYP', 'CZK', 'ROL', 'KRW'}\n"
     ]
    }
   ],
   "source": [
    "# printing the currencies\n",
    "print(cc.currencies)"
   ]
  },
  {
   "cell_type": "code",
   "execution_count": null,
   "metadata": {},
   "outputs": [],
   "source": [
    "# Get the rate of conversion from the US dollar to your currency of choice\n",
    "gbp_rate = cc.convert(1, \"USD\", \"GBP\")\n",
    "\n",
    "# Multiply the dollar column by your currency of choice\n",
    "list_clean[:, 1] = list_clean[:, 1] * gbp_rate"
   ]
  },
  {
   "cell_type": "code",
   "execution_count": 59,
   "metadata": {},
   "outputs": [],
   "source": [
    "# Multiply the dollar column by the inflation percentage (1.00 + inflation)\n",
    "list_clean[:, 1] = list_clean[:, 1] * 5.0\n",
    "# Round down the new currency column to 2 decimals\n",
    "list_clean[:, 1] = np.round_(list_clean[:, 1], decimals=2)"
   ]
  },
  {
   "cell_type": "code",
   "execution_count": 60,
   "metadata": {},
   "outputs": [
    {
     "data": {
      "text/plain": [
       "0"
      ]
     },
     "execution_count": 60,
     "metadata": {},
     "output_type": "execute_result"
    }
   ],
   "source": [
    "# checking if there are any nan values in the dataset\n",
    "np.isnan(list_clean).sum()"
   ]
  },
  {
   "cell_type": "code",
   "execution_count": 66,
   "metadata": {},
   "outputs": [
    {
     "data": {
      "text/plain": [
       "8686561.4871275"
      ]
     },
     "execution_count": 66,
     "metadata": {},
     "output_type": "execute_result"
    }
   ],
   "source": [
    "# checking the mean value of the specific column to see if there is nan values to fill, since there was none, so left it. \n",
    "np.mean(list_clean[3])"
   ]
  },
  {
   "cell_type": "code",
   "execution_count": null,
   "metadata": {},
   "outputs": [],
   "source": [
    "%%timeit -r 4 -n 100\n",
    "# Allow a Python function to be used in a (semi-)vectorized way\n",
    "conv_to_meters = np.vectorize(from_location_to_airbnb_listing_in_meters)\n",
    "\n",
    "# Apply the function, use timeit\n",
    "conv_to_meters(latitude, longitude, list_clean[:, 2], list_clean[:, 3])"
   ]
  },
  {
   "cell_type": "code",
   "execution_count": null,
   "metadata": {},
   "outputs": [],
   "source": [
    "# Printing the final array information\n",
    "list_clean[np.set_printoptions(suppress=True, linewidth= 100, precision=3)]"
   ]
  }
 ],
 "metadata": {
  "kernelspec": {
   "display_name": "base",
   "language": "python",
   "name": "python3"
  },
  "language_info": {
   "codemirror_mode": {
    "name": "ipython",
    "version": 3
   },
   "file_extension": ".py",
   "mimetype": "text/x-python",
   "name": "python",
   "nbconvert_exporter": "python",
   "pygments_lexer": "ipython3",
   "version": "3.9.15"
  },
  "orig_nbformat": 4,
  "vscode": {
   "interpreter": {
    "hash": "f731066023ac01cb83b0919592cccda9b3837cfce89d22e0f769b9496944f601"
   }
  }
 },
 "nbformat": 4,
 "nbformat_minor": 2
}
